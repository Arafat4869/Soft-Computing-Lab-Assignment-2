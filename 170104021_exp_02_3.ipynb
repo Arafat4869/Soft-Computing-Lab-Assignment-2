{
 "cells": [
  {
   "cell_type": "markdown",
   "metadata": {},
   "source": [
    "# Mounting Google Drive"
   ]
  },
  {
   "cell_type": "code",
   "execution_count": null,
   "metadata": {
    "id": "4Ul0tu8z8v9z",
    "outputId": "6367599d-7522-4984-ec7b-6b319637f7e2"
   },
   "outputs": [],
   "source": [
    "from google.colab import drive\n",
    "drive.mount('/content/gdrive')"
   ]
  },
  {
   "cell_type": "markdown",
   "metadata": {},
   "source": [
    "# Importing Libraries"
   ]
  },
  {
   "cell_type": "code",
   "execution_count": 1,
   "metadata": {
    "execution": {
     "iopub.execute_input": "2021-08-28T15:20:52.827057Z",
     "iopub.status.busy": "2021-08-28T15:20:52.826621Z",
     "iopub.status.idle": "2021-08-28T15:20:54.227594Z",
     "shell.execute_reply": "2021-08-28T15:20:54.226760Z",
     "shell.execute_reply.started": "2021-08-28T15:20:52.826971Z"
    },
    "id": "sMzXpTSF832l"
   },
   "outputs": [],
   "source": [
    "import os\n",
    "from os import path\n",
    "import numpy as np\n",
    "import pandas as pd\n",
    "import matplotlib\n",
    "import matplotlib.pyplot as plt\n",
    "import torch\n",
    "import torch.nn as nn\n",
    "import torch.nn.functional as F\n",
    "import torch.optim as optim\n",
    "from torch.utils.data import Dataset\n",
    "from torch.utils.data.sampler import SubsetRandomSampler\n",
    "from torchvision import datasets, transforms, models\n",
    "from PIL import Image"
   ]
  },
  {
   "cell_type": "markdown",
   "metadata": {},
   "source": [
    "## Unzipping the zip file"
   ]
  },
  {
   "cell_type": "code",
   "execution_count": null,
   "metadata": {
    "id": "_1LIhQf_83-j",
    "outputId": "4a7f94c0-30bc-4a1b-861a-5f6e08c7b055"
   },
   "outputs": [],
   "source": [
    "!unzip '/content/gdrive/MyDrive/4.2/CSE 4238/Dataset C.zip'"
   ]
  },
  {
   "cell_type": "markdown",
   "metadata": {},
   "source": [
    "# Reading Data From the csv File"
   ]
  },
  {
   "cell_type": "code",
   "execution_count": 2,
   "metadata": {
    "execution": {
     "iopub.execute_input": "2021-08-28T15:20:57.858187Z",
     "iopub.status.busy": "2021-08-28T15:20:57.857870Z",
     "iopub.status.idle": "2021-08-28T15:20:58.000933Z",
     "shell.execute_reply": "2021-08-28T15:20:57.999591Z",
     "shell.execute_reply.started": "2021-08-28T15:20:57.858159Z"
    },
    "id": "q29ieCwf84HL",
    "outputId": "ddd00874-6e05-4f5e-f4a4-04ec254257e9"
   },
   "outputs": [
    {
     "name": "stdout",
     "output_type": "stream",
     "text": [
      "         filename  digit\n",
      "0      c00000.png      6\n",
      "1      c00001.png      1\n",
      "2      c00002.png      3\n",
      "3      c00003.png      2\n",
      "4      c00004.png      7\n",
      "...           ...    ...\n",
      "24293  c24293.png      3\n",
      "24294  c24294.png      2\n",
      "24295  c24295.png      7\n",
      "24296  c24296.png      2\n",
      "24297  c24297.png      7\n",
      "\n",
      "[24298 rows x 2 columns]\n"
     ]
    }
   ],
   "source": [
    "cols_csv = pd.read_csv('../input/cse-4238/Dataset C/training-c.csv')\n",
    "# print(cols_csv.columns)\n",
    "\n",
    "cols_csv.drop(cols_csv.columns[[1,2,4,5,6]], axis = 1, inplace = True)\n",
    "print(cols_csv) \n",
    "\n",
    "cols_csv.to_csv('Datas.csv',index=False)"
   ]
  },
  {
   "cell_type": "code",
   "execution_count": 3,
   "metadata": {
    "execution": {
     "iopub.execute_input": "2021-08-28T15:21:02.005329Z",
     "iopub.status.busy": "2021-08-28T15:21:02.005001Z",
     "iopub.status.idle": "2021-08-28T15:21:02.032832Z",
     "shell.execute_reply": "2021-08-28T15:21:02.031886Z",
     "shell.execute_reply.started": "2021-08-28T15:21:02.005299Z"
    },
    "id": "ndnL6diRVUdx",
    "outputId": "05396757-cfc4-4fa3-bff1-47092723710e"
   },
   "outputs": [
    {
     "data": {
      "text/html": [
       "<div>\n",
       "<style scoped>\n",
       "    .dataframe tbody tr th:only-of-type {\n",
       "        vertical-align: middle;\n",
       "    }\n",
       "\n",
       "    .dataframe tbody tr th {\n",
       "        vertical-align: top;\n",
       "    }\n",
       "\n",
       "    .dataframe thead th {\n",
       "        text-align: right;\n",
       "    }\n",
       "</style>\n",
       "<table border=\"1\" class=\"dataframe\">\n",
       "  <thead>\n",
       "    <tr style=\"text-align: right;\">\n",
       "      <th></th>\n",
       "      <th>filename</th>\n",
       "      <th>digit</th>\n",
       "    </tr>\n",
       "  </thead>\n",
       "  <tbody>\n",
       "    <tr>\n",
       "      <th>0</th>\n",
       "      <td>c00000.png</td>\n",
       "      <td>6</td>\n",
       "    </tr>\n",
       "    <tr>\n",
       "      <th>1</th>\n",
       "      <td>c00001.png</td>\n",
       "      <td>1</td>\n",
       "    </tr>\n",
       "    <tr>\n",
       "      <th>2</th>\n",
       "      <td>c00002.png</td>\n",
       "      <td>3</td>\n",
       "    </tr>\n",
       "    <tr>\n",
       "      <th>3</th>\n",
       "      <td>c00003.png</td>\n",
       "      <td>2</td>\n",
       "    </tr>\n",
       "    <tr>\n",
       "      <th>4</th>\n",
       "      <td>c00004.png</td>\n",
       "      <td>7</td>\n",
       "    </tr>\n",
       "    <tr>\n",
       "      <th>5</th>\n",
       "      <td>c00005.png</td>\n",
       "      <td>3</td>\n",
       "    </tr>\n",
       "    <tr>\n",
       "      <th>6</th>\n",
       "      <td>c00006.png</td>\n",
       "      <td>4</td>\n",
       "    </tr>\n",
       "    <tr>\n",
       "      <th>7</th>\n",
       "      <td>c00007.png</td>\n",
       "      <td>7</td>\n",
       "    </tr>\n",
       "    <tr>\n",
       "      <th>8</th>\n",
       "      <td>c00008.png</td>\n",
       "      <td>5</td>\n",
       "    </tr>\n",
       "    <tr>\n",
       "      <th>9</th>\n",
       "      <td>c00009.png</td>\n",
       "      <td>3</td>\n",
       "    </tr>\n",
       "  </tbody>\n",
       "</table>\n",
       "</div>"
      ],
      "text/plain": [
       "     filename  digit\n",
       "0  c00000.png      6\n",
       "1  c00001.png      1\n",
       "2  c00002.png      3\n",
       "3  c00003.png      2\n",
       "4  c00004.png      7\n",
       "5  c00005.png      3\n",
       "6  c00006.png      4\n",
       "7  c00007.png      7\n",
       "8  c00008.png      5\n",
       "9  c00009.png      3"
      ]
     },
     "execution_count": 3,
     "metadata": {},
     "output_type": "execute_result"
    }
   ],
   "source": [
    "datas = pd.read_csv('Datas.csv')\n",
    "datas.head(10) #First 5 Rows of the CSV File"
   ]
  },
  {
   "cell_type": "markdown",
   "metadata": {},
   "source": [
    "# Converting Images and Transforming them to Train and Test"
   ]
  },
  {
   "cell_type": "code",
   "execution_count": 4,
   "metadata": {
    "execution": {
     "iopub.execute_input": "2021-08-28T15:21:04.247723Z",
     "iopub.status.busy": "2021-08-28T15:21:04.247298Z",
     "iopub.status.idle": "2021-08-28T15:21:04.256243Z",
     "shell.execute_reply": "2021-08-28T15:21:04.255299Z",
     "shell.execute_reply.started": "2021-08-28T15:21:04.247684Z"
    },
    "id": "E3Sll-Sdcdqy"
   },
   "outputs": [],
   "source": [
    "class Dataset(Dataset):\n",
    "    def __init__(self, df, root, transform=None):\n",
    "        self.data = df\n",
    "        self.root = root\n",
    "        self.transform = transform\n",
    "        \n",
    "    def __len__(self):\n",
    "        return len(self.data)\n",
    "    \n",
    "    def __getitem__(self, index):\n",
    "        item = self.data.iloc[index]\n",
    "        \n",
    "        path = self.root + \"/\" + item[0]\n",
    "        image = Image.open(path).convert('L')\n",
    "        label = item[1]\n",
    "        \n",
    "        if self.transform is not None:\n",
    "            image = self.transform(image)\n",
    "            \n",
    "        return image, label"
   ]
  },
  {
   "cell_type": "code",
   "execution_count": 21,
   "metadata": {
    "execution": {
     "iopub.execute_input": "2021-08-28T15:26:05.905948Z",
     "iopub.status.busy": "2021-08-28T15:26:05.905603Z",
     "iopub.status.idle": "2021-08-28T15:26:05.913062Z",
     "shell.execute_reply": "2021-08-28T15:26:05.912201Z",
     "shell.execute_reply.started": "2021-08-28T15:26:05.905918Z"
    },
    "id": "k44dXEqsgstR",
    "outputId": "0e61a8e6-88b9-49b7-d963-b837d66d1642"
   },
   "outputs": [
    {
     "name": "stdout",
     "output_type": "stream",
     "text": [
      "Trainig Samples:  24298\n",
      "Trainig Samples:  24298\n"
     ]
    }
   ],
   "source": [
    "mean = [0.5,]\n",
    "std = [0.5,]\n",
    "\n",
    "train_transform = transforms.Compose([\n",
    "    transforms.Resize(28),\n",
    "    transforms.ToTensor(),\n",
    "    transforms.Normalize(mean, std)\n",
    "])\n",
    "\n",
    "test_transform = transforms.Compose([\n",
    "        transforms.Resize(28),\n",
    "        transforms.ToTensor(),\n",
    "        transforms.Normalize(mean, std)\n",
    "])\n",
    "\n",
    "TRAIN_PATH = '../input/cse-4238/Dataset C/training-c'\n",
    "train_data = Dataset(datas, TRAIN_PATH, train_transform)\n",
    "test_data = Dataset(datas, TRAIN_PATH, test_transform)\n",
    "\n",
    "print(\"Trainig Samples: \",len(train_data))\n",
    "print(\"Trainig Samples: \",len(test_data))"
   ]
  },
  {
   "cell_type": "markdown",
   "metadata": {
    "id": "mKB94bXzzF0e"
   },
   "source": [
    "# Hyperparameter Setting 3 Exp.2\n",
    "*   No of hidden layers = 3\n",
    "*   Hidden Nodes = 784-300-200-100-10\n",
    "*   Iteration = 21000\n",
    "*   Learning rate = 0.05\n",
    "*   Batch Size = 64\n",
    "*   Activation Function : ReLU,ReLU6\n",
    "*   Optimizer : SGD\n",
    "*   Accuracy : 71.72%"
   ]
  },
  {
   "cell_type": "code",
   "execution_count": 39,
   "metadata": {
    "execution": {
     "iopub.execute_input": "2021-08-28T17:07:39.117747Z",
     "iopub.status.busy": "2021-08-28T17:07:39.117379Z",
     "iopub.status.idle": "2021-08-28T17:07:39.130738Z",
     "shell.execute_reply": "2021-08-28T17:07:39.129829Z",
     "shell.execute_reply.started": "2021-08-28T17:07:39.117716Z"
    },
    "id": "Jb_0E8-2meEu",
    "outputId": "26804ace-9653-481d-b7f7-e33f8e98ced2"
   },
   "outputs": [
    {
     "name": "stdout",
     "output_type": "stream",
     "text": [
      "19439\n",
      "Train dataloader:304\n",
      "Test dataloader:76\n"
     ]
    }
   ],
   "source": [
    "batch_size = 64\n",
    "num_iters = 21000\n",
    "input_dim = 28*28\n",
    "output_dim = 10\n",
    "learning_rate = 0.05\n",
    "num_hidden = 300  #number of hidden nodes\n",
    "# Device\n",
    "device = torch.device(\"cuda:0\" if torch.cuda.is_available() else \"cpu\")\n",
    "\n",
    "# split data 20% for testing\n",
    "test_size = 0.2\n",
    "\n",
    "# obtain training indices that will be used for validation\n",
    "num_train = len(train_data)\n",
    "\n",
    "# mix data\n",
    "# index of num of train\n",
    "indices = list(range(num_train))\n",
    "# random the index\n",
    "np.random.shuffle(indices)\n",
    "split = int(np.floor(test_size * num_train))\n",
    "# divied into two part\n",
    "train_idx, test_idx = indices[split:], indices[:split]\n",
    "\n",
    "print(len(train_idx))\n",
    "\n",
    "# define the sampler\n",
    "train_sampler = SubsetRandomSampler(train_idx)\n",
    "test_sampler = SubsetRandomSampler(test_idx)\n",
    "\n",
    "# prepare loaders\n",
    "train_loader = torch.utils.data.DataLoader(\n",
    "    train_data, batch_size=batch_size,\n",
    "    sampler=train_sampler)\n",
    "\n",
    "test_loader = torch.utils.data.DataLoader(\n",
    "    test_data, batch_size=batch_size,\n",
    "    sampler=test_sampler)\n",
    "\n",
    "print(\"Train dataloader:{}\".format(len(train_loader)))\n",
    "print(\"Test dataloader:{}\".format(len(test_loader)))"
   ]
  },
  {
   "cell_type": "code",
   "execution_count": 40,
   "metadata": {
    "execution": {
     "iopub.execute_input": "2021-08-28T17:08:03.794517Z",
     "iopub.status.busy": "2021-08-28T17:08:03.794183Z",
     "iopub.status.idle": "2021-08-28T17:08:03.799241Z",
     "shell.execute_reply": "2021-08-28T17:08:03.798179Z",
     "shell.execute_reply.started": "2021-08-28T17:08:03.794474Z"
    },
    "id": "bEvDzfF11Cld",
    "outputId": "40f30006-856b-405f-b464-457a7d8eb761"
   },
   "outputs": [
    {
     "name": "stdout",
     "output_type": "stream",
     "text": [
      "69\n"
     ]
    }
   ],
   "source": [
    "num_epochs = num_iters / (len(train_idx) / batch_size)\n",
    "num_epochs = int(num_epochs)\n",
    "print(num_epochs)"
   ]
  },
  {
   "cell_type": "markdown",
   "metadata": {},
   "source": [
    "# Creating Neural Network Model"
   ]
  },
  {
   "cell_type": "code",
   "execution_count": 41,
   "metadata": {
    "execution": {
     "iopub.execute_input": "2021-08-28T17:09:46.789321Z",
     "iopub.status.busy": "2021-08-28T17:09:46.789003Z",
     "iopub.status.idle": "2021-08-28T17:09:46.797082Z",
     "shell.execute_reply": "2021-08-28T17:09:46.795977Z",
     "shell.execute_reply.started": "2021-08-28T17:09:46.789293Z"
    },
    "id": "_N1pMR-l234V"
   },
   "outputs": [],
   "source": [
    "\n",
    "class DeepNeuralNetworkModel(nn.Module):\n",
    "    def __init__(self, input_size, num_classes, num_hidden):\n",
    "        super().__init__()\n",
    "        ### 1st hidden layer: 784 --> 200\n",
    "        self.linear_1 = nn.Linear(input_size, num_hidden)\n",
    "        ### Non-linearity in 1st hidden layer\n",
    "        self.relu_1 = nn.ReLU()\n",
    "\n",
    "        ### 2nd hidden layer: 200 --> 200\n",
    "        self.linear_2 = nn.Linear(num_hidden, 200)\n",
    "        ### Non-linearity in 2nd hidden layer\n",
    "        self.relu_2 = nn.ReLU6()\n",
    "\n",
    "        ### 3rd hidden layer: 200 --> 200\n",
    "        self.linear_3 = nn.Linear(200,100)\n",
    "        ## Non-linearity in 3rd hidden layer\n",
    "        self.relu_3 = nn.ReLU()\n",
    "\n",
    "        ### Output layer: 100 --> 10\n",
    "        self.linear_out = nn.Linear(100, num_classes)\n",
    "\n",
    "    def forward(self, x):\n",
    "        ### 1st hidden layer\n",
    "        out  = self.linear_1(x)\n",
    "        ### Non-linearity in 1st hidden layer\n",
    "        out = self.relu_1(out)\n",
    "        \n",
    "        ### 2nd hidden layer\n",
    "        out  = self.linear_2(out)\n",
    "        ### Non-linearity in 2nd hidden layer\n",
    "        out = self.relu_2(out)\n",
    "\n",
    "        ### 3rd hidden layer\n",
    "        out  = self.linear_3(out)\n",
    "        ## Non-linearity in 3rd hidden layer\n",
    "        out = self.relu_3(out)\n",
    "        \n",
    "        # Linear layer (output)\n",
    "        probas  = self.linear_out(out)\n",
    "        return probas"
   ]
  },
  {
   "cell_type": "code",
   "execution_count": 45,
   "metadata": {
    "execution": {
     "iopub.execute_input": "2021-08-28T17:10:50.062979Z",
     "iopub.status.busy": "2021-08-28T17:10:50.062662Z",
     "iopub.status.idle": "2021-08-28T17:10:50.074587Z",
     "shell.execute_reply": "2021-08-28T17:10:50.073400Z",
     "shell.execute_reply.started": "2021-08-28T17:10:50.062952Z"
    },
    "id": "3eP_1LEN3JJO",
    "outputId": "9007c2be-3271-4c60-eef9-b50e369a3d9d"
   },
   "outputs": [
    {
     "data": {
      "text/plain": [
       "DeepNeuralNetworkModel(\n",
       "  (linear_1): Linear(in_features=784, out_features=300, bias=True)\n",
       "  (relu_1): ReLU()\n",
       "  (linear_2): Linear(in_features=300, out_features=200, bias=True)\n",
       "  (relu_2): ReLU6()\n",
       "  (linear_3): Linear(in_features=200, out_features=100, bias=True)\n",
       "  (relu_3): ReLU()\n",
       "  (linear_out): Linear(in_features=100, out_features=10, bias=True)\n",
       ")"
      ]
     },
     "execution_count": 45,
     "metadata": {},
     "output_type": "execute_result"
    }
   ],
   "source": [
    "\n",
    "'''\n",
    "INSTANTIATE MODEL CLASS\n",
    "'''\n",
    "model = DeepNeuralNetworkModel(input_size=input_dim,\n",
    "                                num_classes=output_dim,\n",
    "                                num_hidden = num_hidden)\n",
    "\n",
    "#To enable GPU\n",
    "model.to(device)"
   ]
  },
  {
   "cell_type": "markdown",
   "metadata": {},
   "source": [
    "# Optimizer (SGD)"
   ]
  },
  {
   "cell_type": "code",
   "execution_count": 46,
   "metadata": {
    "execution": {
     "iopub.execute_input": "2021-08-28T17:10:51.594921Z",
     "iopub.status.busy": "2021-08-28T17:10:51.594600Z",
     "iopub.status.idle": "2021-08-28T17:10:51.599443Z",
     "shell.execute_reply": "2021-08-28T17:10:51.598292Z",
     "shell.execute_reply.started": "2021-08-28T17:10:51.594895Z"
    },
    "id": "YzipH5Re3JsL"
   },
   "outputs": [],
   "source": [
    "optimizer = torch.optim.SGD(model.parameters(), lr=learning_rate)\n",
    "criterion = nn.CrossEntropyLoss()"
   ]
  },
  {
   "cell_type": "code",
   "execution_count": 47,
   "metadata": {
    "execution": {
     "iopub.execute_input": "2021-08-28T17:10:53.203821Z",
     "iopub.status.busy": "2021-08-28T17:10:53.203391Z",
     "iopub.status.idle": "2021-08-28T17:49:50.461650Z",
     "shell.execute_reply": "2021-08-28T17:49:50.460644Z",
     "shell.execute_reply.started": "2021-08-28T17:10:53.203785Z"
    },
    "id": "T1bWKEQN3P09",
    "outputId": "ad0e6f20-0da4-4995-93d9-8b9f8a7c8e38"
   },
   "outputs": [
    {
     "name": "stdout",
     "output_type": "stream",
     "text": [
      "Iteration: 500. Loss: 2.300790786743164. Accuracy: 9.590450710022639\n",
      "Iteration: 1000. Loss: 2.233384370803833. Accuracy: 14.179872401728751\n",
      "Iteration: 1500. Loss: 2.2319910526275635. Accuracy: 16.443712698086024\n",
      "Iteration: 2000. Loss: 2.244954824447632. Accuracy: 21.218357686766826\n",
      "Iteration: 2500. Loss: 2.128328323364258. Accuracy: 22.51492076558963\n",
      "Iteration: 3000. Loss: 2.0451133251190186. Accuracy: 25.416752418193045\n",
      "Iteration: 3500. Loss: 1.9743633270263672. Accuracy: 26.79563696233793\n",
      "Iteration: 4000. Loss: 2.020885467529297. Accuracy: 30.500102901831653\n",
      "Iteration: 4500. Loss: 2.011974334716797. Accuracy: 32.29059477258695\n",
      "Iteration: 5000. Loss: 1.849624514579773. Accuracy: 27.74233381354188\n",
      "Iteration: 5500. Loss: 2.1090316772460938. Accuracy: 35.35706935583453\n",
      "Iteration: 6000. Loss: 1.8717284202575684. Accuracy: 22.350277834945462\n",
      "Iteration: 6500. Loss: 2.06992506980896. Accuracy: 41.942786581601155\n",
      "Iteration: 7000. Loss: 1.6544067859649658. Accuracy: 44.59765383823832\n",
      "Iteration: 7500. Loss: 1.9168764352798462. Accuracy: 41.65466145297386\n",
      "Iteration: 8000. Loss: 1.6279690265655518. Accuracy: 33.91644371269808\n",
      "Iteration: 8500. Loss: 1.9478105306625366. Accuracy: 39.781848116896484\n",
      "Iteration: 9000. Loss: 1.6483850479125977. Accuracy: 40.23461617616793\n",
      "Iteration: 9500. Loss: 1.276930570602417. Accuracy: 43.424572957398645\n",
      "Iteration: 10000. Loss: 1.2545498609542847. Accuracy: 48.981271866639226\n",
      "Iteration: 10500. Loss: 1.1930444240570068. Accuracy: 49.598682856554845\n",
      "Iteration: 11000. Loss: 1.4561843872070312. Accuracy: 41.963366947931675\n",
      "Iteration: 11500. Loss: 1.2490421533584595. Accuracy: 50.62770117308088\n",
      "Iteration: 12000. Loss: 1.422363519668579. Accuracy: 55.85511422103313\n",
      "Iteration: 12500. Loss: 1.5428353548049927. Accuracy: 48.878370034986624\n",
      "Iteration: 13000. Loss: 1.0871485471725464. Accuracy: 59.90944638814571\n",
      "Iteration: 13500. Loss: 1.7729053497314453. Accuracy: 51.47149619263223\n",
      "Iteration: 14000. Loss: 1.0121780633926392. Accuracy: 57.398641695822185\n",
      "Iteration: 14500. Loss: 1.3451787233352661. Accuracy: 62.56431364478288\n",
      "Iteration: 15000. Loss: 1.0657958984375. Accuracy: 62.461411813130276\n",
      "Iteration: 15500. Loss: 1.0060269832611084. Accuracy: 60.300473348425605\n",
      "Iteration: 16000. Loss: 0.8737044930458069. Accuracy: 67.75056596007408\n",
      "Iteration: 16500. Loss: 0.9852918386459351. Accuracy: 64.35480551553817\n",
      "Iteration: 17000. Loss: 1.1895946264266968. Accuracy: 65.75427042601358\n",
      "Iteration: 17500. Loss: 0.8931120038032532. Accuracy: 59.76538382383207\n",
      "Iteration: 18000. Loss: 1.2876638174057007. Accuracy: 65.52788639637785\n",
      "Iteration: 18500. Loss: 0.6142597198486328. Accuracy: 63.59333196130891\n",
      "Iteration: 19000. Loss: 0.88338303565979. Accuracy: 66.88619057419223\n",
      "Iteration: 19500. Loss: 0.7884591221809387. Accuracy: 55.340605062770116\n",
      "Iteration: 20000. Loss: 0.5225294828414917. Accuracy: 68.28565548466763\n",
      "Iteration: 20500. Loss: 0.6410513520240784. Accuracy: 71.72257666186458\n",
      "Iteration: 20976. Loss: 0.9852033853530884. Accuracy: 71.72257666186458\n"
     ]
    }
   ],
   "source": [
    "\n",
    "iteration_loss = []\n",
    "iter = 0\n",
    "for epoch in range(num_epochs):\n",
    "    for i, (images, labels) in enumerate(train_loader):\n",
    "\n",
    "        images = images.view(-1, 28*28).to(device)\n",
    "        labels = labels.to(device)\n",
    "\n",
    "        # Clear gradients w.r.t. parameters\n",
    "        optimizer.zero_grad()\n",
    "\n",
    "        # Forward pass to get output/logits\n",
    "        outputs = model(images) \n",
    "\n",
    "        # Calculate Loss: softmax --> cross entropy loss\n",
    "        loss = criterion(outputs, labels)\n",
    "\n",
    "        # Getting gradients w.r.t. parameters\n",
    "        loss.backward()\n",
    "\n",
    "        # Updating parameters\n",
    "        optimizer.step()\n",
    "\n",
    "        iter += 1\n",
    "\n",
    "        if iter % 500 == 0:\n",
    "            # Calculate Accuracy         \n",
    "            correct = 0\n",
    "            total = 0\n",
    "            # Iterate through test dataset\n",
    "            for images, labels in test_loader:\n",
    "               \n",
    "                images = images.view(-1, 28*28).to(device)\n",
    "\n",
    "                # Forward pass only to get logits/output\n",
    "                outputs = model(images)\n",
    "\n",
    "                # Get predictions from the maximum value\n",
    "                _, predicted = torch.max(outputs, 1)\n",
    "\n",
    "                # Total number of labels\n",
    "                total += labels.size(0)\n",
    "\n",
    "\n",
    "                # Total correct predictions\n",
    "                if torch.cuda.is_available():\n",
    "                    correct += (predicted.cpu() == labels.cpu()).sum() \n",
    "                else:\n",
    "                    correct += (predicted == labels).sum()\n",
    "\n",
    "            accuracy = 100 * correct.item() / total\n",
    "\n",
    "            # Print Loss\n",
    "            iteration_loss.append(loss.item())\n",
    "            print('Iteration: {}. Loss: {}. Accuracy: {}'.format(iter, loss.item(), accuracy))\n",
    "print('Iteration: {}. Loss: {}. Accuracy: {}'.format(iter, loss.item(), accuracy))"
   ]
  },
  {
   "cell_type": "markdown",
   "metadata": {},
   "source": [
    "# Plotting Loss Graph According to Iterations"
   ]
  },
  {
   "cell_type": "code",
   "execution_count": 49,
   "metadata": {
    "execution": {
     "iopub.execute_input": "2021-08-28T17:55:42.162611Z",
     "iopub.status.busy": "2021-08-28T17:55:42.162267Z",
     "iopub.status.idle": "2021-08-28T17:55:42.917883Z",
     "shell.execute_reply": "2021-08-28T17:55:42.916887Z",
     "shell.execute_reply.started": "2021-08-28T17:55:42.162582Z"
    },
    "id": "H_tu7OIw3TYg",
    "outputId": "b9023961-ca31-40ee-d3e0-b03d51d7e400"
   },
   "outputs": [
    {
     "name": "stdout",
     "output_type": "stream",
     "text": [
      "[2.300790786743164, 2.233384370803833, 2.2319910526275635, 2.244954824447632, 2.128328323364258, 2.0451133251190186, 1.9743633270263672, 2.020885467529297, 2.011974334716797, 1.849624514579773, 2.1090316772460938, 1.8717284202575684, 2.06992506980896, 1.6544067859649658, 1.9168764352798462, 1.6279690265655518, 1.9478105306625366, 1.6483850479125977, 1.276930570602417, 1.2545498609542847, 1.1930444240570068, 1.4561843872070312, 1.2490421533584595, 1.422363519668579, 1.5428353548049927, 1.0871485471725464, 1.7729053497314453, 1.0121780633926392, 1.3451787233352661, 1.0657958984375, 1.0060269832611084, 0.8737044930458069, 0.9852918386459351, 1.1895946264266968, 0.8931120038032532, 1.2876638174057007, 0.6142597198486328, 0.88338303565979, 0.7884591221809387, 0.5225294828414917, 0.6410513520240784]\n"
     ]
    },
    {
     "data": {
      "image/png": "[encoded data removed]",
      "text/plain": [
       "<Figure size 432x288 with 1 Axes>"
      ]
     },
     "metadata": {
      "needs_background": "light"
     },
     "output_type": "display_data"
    }
   ],
   "source": [
    "print (iteration_loss)\n",
    "plt.plot(iteration_loss)\n",
    "plt.ylabel('Cross Entropy Loss')\n",
    "plt.xlabel('Iteration (in every 500)')\n",
    "plt.savefig('plot_6.png', dpi=600, bbox_inches='tight')\n",
    "plt.show()"
   ]
  },
  {
   "cell_type": "markdown",
   "metadata": {},
   "source": [
    "# Saving the Model"
   ]
  },
  {
   "cell_type": "code",
   "execution_count": 50,
   "metadata": {
    "execution": {
     "iopub.execute_input": "2021-08-28T17:55:46.492902Z",
     "iopub.status.busy": "2021-08-28T17:55:46.492547Z",
     "iopub.status.idle": "2021-08-28T17:55:46.503529Z",
     "shell.execute_reply": "2021-08-28T17:55:46.502566Z",
     "shell.execute_reply.started": "2021-08-28T17:55:46.492871Z"
    },
    "id": "-6aP_6BvbPes"
   },
   "outputs": [],
   "source": [
    "root_path = './Saved Models'\n",
    "save_model = True\n",
    "\n",
    "if save_model is True:\n",
    "    # Saves only parameters\n",
    "    # weights & biases\n",
    "    torch.save(model.state_dict(), root_path + '170104021_6.pkl') "
   ]
  }
 ],
 "metadata": {
  "kernelspec": {
   "display_name": "Python 3",
   "language": "python",
   "name": "python3"
  },
  "language_info": {
   "codemirror_mode": {
    "name": "ipython",
    "version": 3
   },
   "file_extension": ".py",
   "mimetype": "text/x-python",
   "name": "python",
   "nbconvert_exporter": "python",
   "pygments_lexer": "ipython3",
   "version": "3.8.8"
  }
 },
 "nbformat": 4,
 "nbformat_minor": 4
}
