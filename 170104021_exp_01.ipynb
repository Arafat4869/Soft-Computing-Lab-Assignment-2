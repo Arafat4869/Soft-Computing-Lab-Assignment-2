{
 "cells": [
  {
   "cell_type": "markdown",
   "metadata": {},
   "source": [
    "# Mounting Google Drive"
   ]
  },
  {
   "cell_type": "code",
   "execution_count": null,
   "metadata": {
    "id": "4Ul0tu8z8v9z",
    "outputId": "6367599d-7522-4984-ec7b-6b319637f7e2"
   },
   "outputs": [],
   "source": [
    "from google.colab import drive\n",
    "drive.mount('/content/gdrive')"
   ]
  },
  {
   "cell_type": "markdown",
   "metadata": {},
   "source": [
    "# Importing Libraries"
   ]
  },
  {
   "cell_type": "code",
   "execution_count": 1,
   "metadata": {
    "execution": {
     "iopub.execute_input": "2021-08-28T15:20:52.827057Z",
     "iopub.status.busy": "2021-08-28T15:20:52.826621Z",
     "iopub.status.idle": "2021-08-28T15:20:54.227594Z",
     "shell.execute_reply": "2021-08-28T15:20:54.226760Z",
     "shell.execute_reply.started": "2021-08-28T15:20:52.826971Z"
    },
    "id": "sMzXpTSF832l"
   },
   "outputs": [],
   "source": [
    "import os\n",
    "from os import path\n",
    "import numpy as np\n",
    "import pandas as pd\n",
    "import matplotlib\n",
    "import matplotlib.pyplot as plt\n",
    "import torch\n",
    "import torch.nn as nn\n",
    "import torch.nn.functional as F\n",
    "import torch.optim as optim\n",
    "from torch.utils.data import Dataset\n",
    "from torch.utils.data.sampler import SubsetRandomSampler\n",
    "from torchvision import datasets, transforms, models\n",
    "from PIL import Image"
   ]
  },
  {
   "cell_type": "markdown",
   "metadata": {},
   "source": [
    "## Unzipping the zip file"
   ]
  },
  {
   "cell_type": "code",
   "execution_count": null,
   "metadata": {
    "id": "_1LIhQf_83-j",
    "outputId": "4a7f94c0-30bc-4a1b-861a-5f6e08c7b055"
   },
   "outputs": [],
   "source": [
    "!unzip '/content/gdrive/MyDrive/4.2/CSE 4238/Dataset C.zip'"
   ]
  },
  {
   "cell_type": "markdown",
   "metadata": {},
   "source": [
    "# Reading Data From the csv File"
   ]
  },
  {
   "cell_type": "code",
   "execution_count": 2,
   "metadata": {
    "execution": {
     "iopub.execute_input": "2021-08-28T15:20:57.858187Z",
     "iopub.status.busy": "2021-08-28T15:20:57.857870Z",
     "iopub.status.idle": "2021-08-28T15:20:58.000933Z",
     "shell.execute_reply": "2021-08-28T15:20:57.999591Z",
     "shell.execute_reply.started": "2021-08-28T15:20:57.858159Z"
    },
    "id": "q29ieCwf84HL",
    "outputId": "ddd00874-6e05-4f5e-f4a4-04ec254257e9"
   },
   "outputs": [
    {
     "name": "stdout",
     "output_type": "stream",
     "text": [
      "         filename  digit\n",
      "0      c00000.png      6\n",
      "1      c00001.png      1\n",
      "2      c00002.png      3\n",
      "3      c00003.png      2\n",
      "4      c00004.png      7\n",
      "...           ...    ...\n",
      "24293  c24293.png      3\n",
      "24294  c24294.png      2\n",
      "24295  c24295.png      7\n",
      "24296  c24296.png      2\n",
      "24297  c24297.png      7\n",
      "\n",
      "[24298 rows x 2 columns]\n"
     ]
    }
   ],
   "source": [
    "cols_csv = pd.read_csv('../input/cse-4238/Dataset C/training-c.csv')\n",
    "# print(cols_csv.columns)\n",
    "\n",
    "cols_csv.drop(cols_csv.columns[[1,2,4,5,6]], axis = 1, inplace = True)\n",
    "print(cols_csv) \n",
    "\n",
    "cols_csv.to_csv('Datas.csv',index=False)"
   ]
  },
  {
   "cell_type": "code",
   "execution_count": 3,
   "metadata": {
    "execution": {
     "iopub.execute_input": "2021-08-28T15:21:02.005329Z",
     "iopub.status.busy": "2021-08-28T15:21:02.005001Z",
     "iopub.status.idle": "2021-08-28T15:21:02.032832Z",
     "shell.execute_reply": "2021-08-28T15:21:02.031886Z",
     "shell.execute_reply.started": "2021-08-28T15:21:02.005299Z"
    },
    "id": "ndnL6diRVUdx",
    "outputId": "05396757-cfc4-4fa3-bff1-47092723710e"
   },
   "outputs": [
    {
     "data": {
      "text/html": [
       "<div>\n",
       "<style scoped>\n",
       "    .dataframe tbody tr th:only-of-type {\n",
       "        vertical-align: middle;\n",
       "    }\n",
       "\n",
       "    .dataframe tbody tr th {\n",
       "        vertical-align: top;\n",
       "    }\n",
       "\n",
       "    .dataframe thead th {\n",
       "        text-align: right;\n",
       "    }\n",
       "</style>\n",
       "<table border=\"1\" class=\"dataframe\">\n",
       "  <thead>\n",
       "    <tr style=\"text-align: right;\">\n",
       "      <th></th>\n",
       "      <th>filename</th>\n",
       "      <th>digit</th>\n",
       "    </tr>\n",
       "  </thead>\n",
       "  <tbody>\n",
       "    <tr>\n",
       "      <th>0</th>\n",
       "      <td>c00000.png</td>\n",
       "      <td>6</td>\n",
       "    </tr>\n",
       "    <tr>\n",
       "      <th>1</th>\n",
       "      <td>c00001.png</td>\n",
       "      <td>1</td>\n",
       "    </tr>\n",
       "    <tr>\n",
       "      <th>2</th>\n",
       "      <td>c00002.png</td>\n",
       "      <td>3</td>\n",
       "    </tr>\n",
       "    <tr>\n",
       "      <th>3</th>\n",
       "      <td>c00003.png</td>\n",
       "      <td>2</td>\n",
       "    </tr>\n",
       "    <tr>\n",
       "      <th>4</th>\n",
       "      <td>c00004.png</td>\n",
       "      <td>7</td>\n",
       "    </tr>\n",
       "    <tr>\n",
       "      <th>5</th>\n",
       "      <td>c00005.png</td>\n",
       "      <td>3</td>\n",
       "    </tr>\n",
       "    <tr>\n",
       "      <th>6</th>\n",
       "      <td>c00006.png</td>\n",
       "      <td>4</td>\n",
       "    </tr>\n",
       "    <tr>\n",
       "      <th>7</th>\n",
       "      <td>c00007.png</td>\n",
       "      <td>7</td>\n",
       "    </tr>\n",
       "    <tr>\n",
       "      <th>8</th>\n",
       "      <td>c00008.png</td>\n",
       "      <td>5</td>\n",
       "    </tr>\n",
       "    <tr>\n",
       "      <th>9</th>\n",
       "      <td>c00009.png</td>\n",
       "      <td>3</td>\n",
       "    </tr>\n",
       "  </tbody>\n",
       "</table>\n",
       "</div>"
      ],
      "text/plain": [
       "     filename  digit\n",
       "0  c00000.png      6\n",
       "1  c00001.png      1\n",
       "2  c00002.png      3\n",
       "3  c00003.png      2\n",
       "4  c00004.png      7\n",
       "5  c00005.png      3\n",
       "6  c00006.png      4\n",
       "7  c00007.png      7\n",
       "8  c00008.png      5\n",
       "9  c00009.png      3"
      ]
     },
     "execution_count": 3,
     "metadata": {},
     "output_type": "execute_result"
    }
   ],
   "source": [
    "datas = pd.read_csv('Datas.csv')\n",
    "datas.head(10) #First 5 Rows of the CSV File"
   ]
  },
  {
   "cell_type": "markdown",
   "metadata": {},
   "source": [
    "# Converting Images and Transforming them to Train and Test"
   ]
  },
  {
   "cell_type": "code",
   "execution_count": 4,
   "metadata": {
    "execution": {
     "iopub.execute_input": "2021-08-28T15:21:04.247723Z",
     "iopub.status.busy": "2021-08-28T15:21:04.247298Z",
     "iopub.status.idle": "2021-08-28T15:21:04.256243Z",
     "shell.execute_reply": "2021-08-28T15:21:04.255299Z",
     "shell.execute_reply.started": "2021-08-28T15:21:04.247684Z"
    },
    "id": "E3Sll-Sdcdqy"
   },
   "outputs": [],
   "source": [
    "class Dataset(Dataset):\n",
    "    def __init__(self, df, root, transform=None):\n",
    "        self.data = df\n",
    "        self.root = root\n",
    "        self.transform = transform\n",
    "        \n",
    "    def __len__(self):\n",
    "        return len(self.data)\n",
    "    \n",
    "    def __getitem__(self, index):\n",
    "        item = self.data.iloc[index]\n",
    "        \n",
    "        path = self.root + \"/\" + item[0]\n",
    "        image = Image.open(path).convert('L')\n",
    "        label = item[1]\n",
    "        \n",
    "        if self.transform is not None:\n",
    "            image = self.transform(image)\n",
    "            \n",
    "        return image, label"
   ]
  },
  {
   "cell_type": "code",
   "execution_count": 21,
   "metadata": {
    "execution": {
     "iopub.execute_input": "2021-08-28T15:26:05.905948Z",
     "iopub.status.busy": "2021-08-28T15:26:05.905603Z",
     "iopub.status.idle": "2021-08-28T15:26:05.913062Z",
     "shell.execute_reply": "2021-08-28T15:26:05.912201Z",
     "shell.execute_reply.started": "2021-08-28T15:26:05.905918Z"
    },
    "id": "k44dXEqsgstR",
    "outputId": "0e61a8e6-88b9-49b7-d963-b837d66d1642"
   },
   "outputs": [
    {
     "name": "stdout",
     "output_type": "stream",
     "text": [
      "Trainig Samples:  24298\n",
      "Trainig Samples:  24298\n"
     ]
    }
   ],
   "source": [
    "mean = [0.5,]\n",
    "std = [0.5,]\n",
    "\n",
    "train_transform = transforms.Compose([\n",
    "    transforms.Resize(28),\n",
    "    transforms.ToTensor(),\n",
    "    transforms.Normalize(mean, std)\n",
    "])\n",
    "\n",
    "test_transform = transforms.Compose([\n",
    "        transforms.Resize(28),\n",
    "        transforms.ToTensor(),\n",
    "        transforms.Normalize(mean, std)\n",
    "])\n",
    "\n",
    "TRAIN_PATH = '../input/cse-4238/Dataset C/training-c'\n",
    "train_data = Dataset(datas, TRAIN_PATH, train_transform)\n",
    "test_data = Dataset(datas, TRAIN_PATH, test_transform)\n",
    "\n",
    "print(\"Trainig Samples: \",len(train_data))\n",
    "print(\"Test Samples: \",len(test_data))"
   ]
  },
  {
   "cell_type": "markdown",
   "metadata": {
    "id": "mKB94bXzzF0e"
   },
   "source": [
    "# Hyperparameter Setting 1 Exp.1\n",
    "*   No of hidden layers = 6\n",
    "*   Hidden Nodes = 200\n",
    "*   Iteration = 20000\n",
    "*   Learning rate = 0.01\n",
    "*   Batch Size = 20\n",
    "*   Activation Function : Sigmoid,Tanh,ReLU\n",
    "*   Optimizer : SGD\n",
    "*   Accuracy : 9.40%"
   ]
  },
  {
   "cell_type": "code",
   "execution_count": 29,
   "metadata": {
    "execution": {
     "iopub.execute_input": "2021-08-28T16:46:22.750567Z",
     "iopub.status.busy": "2021-08-28T16:46:22.750218Z",
     "iopub.status.idle": "2021-08-28T16:46:22.764056Z",
     "shell.execute_reply": "2021-08-28T16:46:22.763058Z",
     "shell.execute_reply.started": "2021-08-28T16:46:22.750535Z"
    },
    "id": "Jb_0E8-2meEu",
    "outputId": "26804ace-9653-481d-b7f7-e33f8e98ced2"
   },
   "outputs": [
    {
     "name": "stdout",
     "output_type": "stream",
     "text": [
      "19439\n",
      "Train dataloader:972\n",
      "Test dataloader:243\n"
     ]
    }
   ],
   "source": [
    "batch_size = 20\n",
    "num_iters = 20000\n",
    "input_dim = 28*28\n",
    "output_dim = 10\n",
    "learning_rate = 0.01\n",
    "num_hidden = 200  #number of hidden nodes\n",
    "# Device\n",
    "device = torch.device(\"cuda:0\" if torch.cuda.is_available() else \"cpu\")\n",
    "\n",
    "# split data 20% for testing\n",
    "test_size = 0.2\n",
    "\n",
    "# obtain training indices that will be used for validation\n",
    "num_train = len(train_data)\n",
    "\n",
    "# mix data\n",
    "# index of num of train\n",
    "indices = list(range(num_train))\n",
    "# random the index\n",
    "np.random.shuffle(indices)\n",
    "split = int(np.floor(test_size * num_train))\n",
    "# divied into two part\n",
    "train_idx, test_idx = indices[split:], indices[:split]\n",
    "\n",
    "print(len(train_idx))\n",
    "\n",
    "# define the sampler\n",
    "train_sampler = SubsetRandomSampler(train_idx)\n",
    "test_sampler = SubsetRandomSampler(test_idx)\n",
    "\n",
    "# prepare loaders\n",
    "train_loader = torch.utils.data.DataLoader(\n",
    "    train_data, batch_size=batch_size,\n",
    "    sampler=train_sampler)\n",
    "\n",
    "test_loader = torch.utils.data.DataLoader(\n",
    "    test_data, batch_size=batch_size,\n",
    "    sampler=test_sampler)\n",
    "\n",
    "print(\"Train dataloader:{}\".format(len(train_loader)))\n",
    "print(\"Test dataloader:{}\".format(len(test_loader)))"
   ]
  },
  {
   "cell_type": "code",
   "execution_count": 30,
   "metadata": {
    "execution": {
     "iopub.execute_input": "2021-08-28T16:46:25.990473Z",
     "iopub.status.busy": "2021-08-28T16:46:25.990159Z",
     "iopub.status.idle": "2021-08-28T16:46:25.995146Z",
     "shell.execute_reply": "2021-08-28T16:46:25.994095Z",
     "shell.execute_reply.started": "2021-08-28T16:46:25.990445Z"
    },
    "id": "bEvDzfF11Cld",
    "outputId": "40f30006-856b-405f-b464-457a7d8eb761"
   },
   "outputs": [
    {
     "name": "stdout",
     "output_type": "stream",
     "text": [
      "20\n"
     ]
    }
   ],
   "source": [
    "num_epochs = num_iters / (len(train_idx) / batch_size)\n",
    "num_epochs = int(num_epochs)\n",
    "print(num_epochs)"
   ]
  },
  {
   "cell_type": "markdown",
   "metadata": {},
   "source": [
    "# Creating Neural Network Model"
   ]
  },
  {
   "cell_type": "code",
   "execution_count": 31,
   "metadata": {
    "execution": {
     "iopub.execute_input": "2021-08-28T16:46:27.737031Z",
     "iopub.status.busy": "2021-08-28T16:46:27.734596Z",
     "iopub.status.idle": "2021-08-28T16:46:27.753477Z",
     "shell.execute_reply": "2021-08-28T16:46:27.752455Z",
     "shell.execute_reply.started": "2021-08-28T16:46:27.736990Z"
    },
    "id": "_N1pMR-l234V"
   },
   "outputs": [],
   "source": [
    "\n",
    "class DeepNeuralNetworkModel(nn.Module):\n",
    "    def __init__(self, input_size, num_classes, num_hidden):\n",
    "        super().__init__()\n",
    "        ### 1st hidden layer: 784 --> 200\n",
    "        self.linear_1 = nn.Linear(input_size, num_hidden)\n",
    "        ### Non-linearity in 1st hidden layer\n",
    "        self.relu_1 = nn.Sigmoid()\n",
    "\n",
    "        ### 2nd hidden layer: 200 --> 200\n",
    "        self.linear_2 = nn.Linear(num_hidden, num_hidden)\n",
    "        ### Non-linearity in 2nd hidden layer\n",
    "        self.relu_2 = nn.Tanh()\n",
    "\n",
    "        ### 3rd hidden layer: 200 --> 200\n",
    "        self.linear_3 = nn.Linear(num_hidden, num_hidden)\n",
    "        ## Non-linearity in 3rd hidden layer\n",
    "        self.relu_3 = nn.Sigmoid()\n",
    "\n",
    "        ### 4th hidden layer: 200 --> 200\n",
    "        self.linear_4 = nn.Linear(num_hidden, num_hidden)\n",
    "        ## Non-linearity in 4th hidden layer\n",
    "        self.relu_4 = nn.Tanh()\n",
    "\n",
    "        ### 5th hidden layer: 200 --> 200\n",
    "        self.linear_5 = nn.Linear(num_hidden, num_hidden)\n",
    "        ## Non-linearity in 4th hidden layer\n",
    "        self.relu_5 = nn.ReLU()\n",
    "\n",
    "        ### 6th hidden layer: 200 --> 200\n",
    "        self.linear_6 = nn.Linear(num_hidden, num_hidden)\n",
    "        ## Non-linearity in 4th hidden layer\n",
    "        self.relu_6 = nn.ReLU()\n",
    "\n",
    "        ### Output layer: 200 --> 10\n",
    "        self.linear_out = nn.Linear(num_hidden, num_classes)\n",
    "\n",
    "    def forward(self, x):\n",
    "        ### 1st hidden layer\n",
    "        out  = self.linear_1(x)\n",
    "        ### Non-linearity in 1st hidden layer\n",
    "        out = self.relu_1(out)\n",
    "        \n",
    "        ### 2nd hidden layer\n",
    "        out  = self.linear_2(out)\n",
    "        ### Non-linearity in 2nd hidden layer\n",
    "        out = self.relu_2(out)\n",
    "\n",
    "        ### 3rd hidden layer\n",
    "        out  = self.linear_3(out)\n",
    "        ## Non-linearity in 3rd hidden layer\n",
    "        out = self.relu_3(out)\n",
    "\n",
    "        ### 4th hidden layer\n",
    "        out  = self.linear_4(out)\n",
    "        ## Non-linearity in 4th hidden layer\n",
    "        out = self.relu_4(out)\n",
    "\n",
    "        ### 5th hidden layer\n",
    "        out  = self.linear_5(out)\n",
    "        ## Non-linearity in 5th hidden layer\n",
    "        out = self.relu_5(out)\n",
    "\n",
    "        ### 6th hidden layer\n",
    "        out  = self.linear_6(out)\n",
    "        ## Non-linearity in 6th hidden layer\n",
    "        out = self.relu_6(out)\n",
    "        \n",
    "        # Linear layer (output)\n",
    "        probas  = self.linear_out(out)\n",
    "        return probas"
   ]
  },
  {
   "cell_type": "code",
   "execution_count": 32,
   "metadata": {
    "execution": {
     "iopub.execute_input": "2021-08-28T16:46:31.057621Z",
     "iopub.status.busy": "2021-08-28T16:46:31.057284Z",
     "iopub.status.idle": "2021-08-28T16:46:31.071428Z",
     "shell.execute_reply": "2021-08-28T16:46:31.070219Z",
     "shell.execute_reply.started": "2021-08-28T16:46:31.057591Z"
    },
    "id": "3eP_1LEN3JJO",
    "outputId": "9007c2be-3271-4c60-eef9-b50e369a3d9d"
   },
   "outputs": [
    {
     "data": {
      "text/plain": [
       "DeepNeuralNetworkModel(\n",
       "  (linear_1): Linear(in_features=784, out_features=200, bias=True)\n",
       "  (relu_1): Sigmoid()\n",
       "  (linear_2): Linear(in_features=200, out_features=200, bias=True)\n",
       "  (relu_2): Tanh()\n",
       "  (linear_3): Linear(in_features=200, out_features=200, bias=True)\n",
       "  (relu_3): Sigmoid()\n",
       "  (linear_4): Linear(in_features=200, out_features=200, bias=True)\n",
       "  (relu_4): Tanh()\n",
       "  (linear_5): Linear(in_features=200, out_features=200, bias=True)\n",
       "  (relu_5): ReLU()\n",
       "  (linear_6): Linear(in_features=200, out_features=200, bias=True)\n",
       "  (relu_6): ReLU()\n",
       "  (linear_out): Linear(in_features=200, out_features=10, bias=True)\n",
       ")"
      ]
     },
     "execution_count": 32,
     "metadata": {},
     "output_type": "execute_result"
    }
   ],
   "source": [
    "\n",
    "'''\n",
    "INSTANTIATE MODEL CLASS\n",
    "'''\n",
    "model = DeepNeuralNetworkModel(input_size=input_dim,\n",
    "                                num_classes=output_dim,\n",
    "                                num_hidden = num_hidden)\n",
    "\n",
    "#To enable GPU\n",
    "model.to(device)"
   ]
  },
  {
   "cell_type": "markdown",
   "metadata": {},
   "source": [
    "# Optimizer (SGD)"
   ]
  },
  {
   "cell_type": "code",
   "execution_count": 33,
   "metadata": {
    "execution": {
     "iopub.execute_input": "2021-08-28T16:46:33.131062Z",
     "iopub.status.busy": "2021-08-28T16:46:33.130672Z",
     "iopub.status.idle": "2021-08-28T16:46:33.136273Z",
     "shell.execute_reply": "2021-08-28T16:46:33.135445Z",
     "shell.execute_reply.started": "2021-08-28T16:46:33.131032Z"
    },
    "id": "YzipH5Re3JsL"
   },
   "outputs": [],
   "source": [
    "optimizer = torch.optim.SGD(model.parameters(), lr=learning_rate)\n",
    "criterion = nn.CrossEntropyLoss()"
   ]
  },
  {
   "cell_type": "code",
   "execution_count": 34,
   "metadata": {
    "execution": {
     "iopub.execute_input": "2021-08-28T16:46:34.437159Z",
     "iopub.status.busy": "2021-08-28T16:46:34.436586Z",
     "iopub.status.idle": "2021-08-28T17:01:13.927224Z",
     "shell.execute_reply": "2021-08-28T17:01:13.926297Z",
     "shell.execute_reply.started": "2021-08-28T16:46:34.437120Z"
    },
    "id": "T1bWKEQN3P09",
    "outputId": "ad0e6f20-0da4-4995-93d9-8b9f8a7c8e38"
   },
   "outputs": [
    {
     "name": "stdout",
     "output_type": "stream",
     "text": [
      "Iteration: 500. Loss: 2.3056533336639404. Accuracy: 9.405227413047951\n",
      "Iteration: 1000. Loss: 2.3040096759796143. Accuracy: 9.960897303972011\n",
      "Iteration: 1500. Loss: 2.3031914234161377. Accuracy: 9.960897303972011\n",
      "Iteration: 2000. Loss: 2.299388885498047. Accuracy: 9.405227413047951\n",
      "Iteration: 2500. Loss: 2.305532217025757. Accuracy: 9.796254373327844\n",
      "Iteration: 3000. Loss: 2.305443286895752. Accuracy: 9.405227413047951\n",
      "Iteration: 3500. Loss: 2.3059449195861816. Accuracy: 9.796254373327844\n",
      "Iteration: 4000. Loss: 2.3016867637634277. Accuracy: 9.405227413047951\n",
      "Iteration: 4500. Loss: 2.2910091876983643. Accuracy: 9.796254373327844\n",
      "Iteration: 5000. Loss: 2.303102493286133. Accuracy: 9.405227413047951\n",
      "Iteration: 5500. Loss: 2.300445556640625. Accuracy: 9.816834739658367\n",
      "Iteration: 6000. Loss: 2.3030731678009033. Accuracy: 9.960897303972011\n",
      "Iteration: 6500. Loss: 2.3034915924072266. Accuracy: 9.405227413047951\n",
      "Iteration: 7000. Loss: 2.2976510524749756. Accuracy: 10.043218769294093\n",
      "Iteration: 7500. Loss: 2.307871103286743. Accuracy: 9.405227413047951\n",
      "Iteration: 8000. Loss: 2.293485164642334. Accuracy: 9.796254373327844\n",
      "Iteration: 8500. Loss: 2.3023767471313477. Accuracy: 9.405227413047951\n",
      "Iteration: 9000. Loss: 2.2990105152130127. Accuracy: 9.796254373327844\n",
      "Iteration: 9500. Loss: 2.3029353618621826. Accuracy: 9.405227413047951\n",
      "Iteration: 10000. Loss: 2.3112335205078125. Accuracy: 10.043218769294093\n",
      "Iteration: 10500. Loss: 2.3018431663513184. Accuracy: 9.960897303972011\n",
      "Iteration: 11000. Loss: 2.309844732284546. Accuracy: 9.405227413047951\n",
      "Iteration: 11500. Loss: 2.3017239570617676. Accuracy: 9.405227413047951\n",
      "Iteration: 12000. Loss: 2.301455020904541. Accuracy: 9.960897303972011\n",
      "Iteration: 12500. Loss: 2.2990126609802246. Accuracy: 9.405227413047951\n",
      "Iteration: 13000. Loss: 2.308173656463623. Accuracy: 9.816834739658367\n",
      "Iteration: 13500. Loss: 2.3091378211975098. Accuracy: 9.405227413047951\n",
      "Iteration: 14000. Loss: 2.299081325531006. Accuracy: 10.043218769294093\n",
      "Iteration: 14500. Loss: 2.297811508178711. Accuracy: 10.022638402963572\n",
      "Iteration: 15000. Loss: 2.3066318035125732. Accuracy: 9.960897303972011\n",
      "Iteration: 15500. Loss: 2.3027565479278564. Accuracy: 9.405227413047951\n",
      "Iteration: 16000. Loss: 2.301741600036621. Accuracy: 9.405227413047951\n",
      "Iteration: 16500. Loss: 2.299433946609497. Accuracy: 9.405227413047951\n",
      "Iteration: 17000. Loss: 2.2967965602874756. Accuracy: 9.405227413047951\n",
      "Iteration: 17500. Loss: 2.3008036613464355. Accuracy: 9.405227413047951\n",
      "Iteration: 18000. Loss: 2.308448314666748. Accuracy: 9.816834739658367\n",
      "Iteration: 18500. Loss: 2.2993006706237793. Accuracy: 9.405227413047951\n",
      "Iteration: 19000. Loss: 2.3019049167633057. Accuracy: 9.405227413047951\n"
     ]
    }
   ],
   "source": [
    "\n",
    "iteration_loss = []\n",
    "iter = 0\n",
    "for epoch in range(num_epochs):\n",
    "    for i, (images, labels) in enumerate(train_loader):\n",
    "\n",
    "        images = images.view(-1, 28*28).to(device)\n",
    "        labels = labels.to(device)\n",
    "\n",
    "        # Clear gradients w.r.t. parameters\n",
    "        optimizer.zero_grad()\n",
    "\n",
    "        # Forward pass to get output/logits\n",
    "        outputs = model(images) \n",
    "\n",
    "        # Calculate Loss: softmax --> cross entropy loss\n",
    "        loss = criterion(outputs, labels)\n",
    "\n",
    "        # Getting gradients w.r.t. parameters\n",
    "        loss.backward()\n",
    "\n",
    "        # Updating parameters\n",
    "        optimizer.step()\n",
    "\n",
    "        iter += 1\n",
    "\n",
    "        if iter % 500 == 0:\n",
    "            # Calculate Accuracy         \n",
    "            correct = 0\n",
    "            total = 0\n",
    "            # Iterate through test dataset\n",
    "            for images, labels in test_loader:\n",
    "               \n",
    "                images = images.view(-1, 28*28).to(device)\n",
    "\n",
    "                # Forward pass only to get logits/output\n",
    "                outputs = model(images)\n",
    "\n",
    "                # Get predictions from the maximum value\n",
    "                _, predicted = torch.max(outputs, 1)\n",
    "\n",
    "                # Total number of labels\n",
    "                total += labels.size(0)\n",
    "\n",
    "\n",
    "                # Total correct predictions\n",
    "                if torch.cuda.is_available():\n",
    "                    correct += (predicted.cpu() == labels.cpu()).sum() \n",
    "                else:\n",
    "                    correct += (predicted == labels).sum()\n",
    "\n",
    "            accuracy = 100 * correct.item() / total\n",
    "\n",
    "            # Print Loss\n",
    "            iteration_loss.append(loss.item())\n",
    "            print('Iteration: {}. Loss: {}. Accuracy: {}'.format(iter, loss.item(), accuracy))\n",
    "print('Iteration: {}. Loss: {}. Accuracy: {}'.format(iter, loss.item(), accuracy))"
   ]
  },
  {
   "cell_type": "markdown",
   "metadata": {},
   "source": [
    "# Plotting Loss Graph According to Iterations"
   ]
  },
  {
   "cell_type": "code",
   "execution_count": 35,
   "metadata": {
    "execution": {
     "iopub.execute_input": "2021-08-28T17:01:13.928910Z",
     "iopub.status.busy": "2021-08-28T17:01:13.928569Z",
     "iopub.status.idle": "2021-08-28T17:01:14.672825Z",
     "shell.execute_reply": "2021-08-28T17:01:14.671868Z",
     "shell.execute_reply.started": "2021-08-28T17:01:13.928874Z"
    },
    "id": "H_tu7OIw3TYg",
    "outputId": "b9023961-ca31-40ee-d3e0-b03d51d7e400"
   },
   "outputs": [
    {
     "name": "stdout",
     "output_type": "stream",
     "text": [
      "[2.3056533336639404, 2.3040096759796143, 2.3031914234161377, 2.299388885498047, 2.305532217025757, 2.305443286895752, 2.3059449195861816, 2.3016867637634277, 2.2910091876983643, 2.303102493286133, 2.300445556640625, 2.3030731678009033, 2.3034915924072266, 2.2976510524749756, 2.307871103286743, 2.293485164642334, 2.3023767471313477, 2.2990105152130127, 2.3029353618621826, 2.3112335205078125, 2.3018431663513184, 2.309844732284546, 2.3017239570617676, 2.301455020904541, 2.2990126609802246, 2.308173656463623, 2.3091378211975098, 2.299081325531006, 2.297811508178711, 2.3066318035125732, 2.3027565479278564, 2.301741600036621, 2.299433946609497, 2.2967965602874756, 2.3008036613464355, 2.308448314666748, 2.2993006706237793, 2.3019049167633057]\n"
     ]
    },
    {
     "data": {
      "image/png": "[encoded data removed]",
      "text/plain": [
       "<Figure size 432x288 with 1 Axes>"
      ]
     },
     "metadata": {
      "needs_background": "light"
     },
     "output_type": "display_data"
    }
   ],
   "source": [
    "print (iteration_loss)\n",
    "plt.plot(iteration_loss)\n",
    "plt.ylabel('Cross Entropy Loss')\n",
    "plt.xlabel('Iteration (in every 500)')\n",
    "plt.savefig('plot_1.png', dpi=600, bbox_inches='tight')\n",
    "plt.show()"
   ]
  },
  {
   "cell_type": "markdown",
   "metadata": {},
   "source": [
    "# Saving the Model"
   ]
  },
  {
   "cell_type": "code",
   "execution_count": 37,
   "metadata": {
    "execution": {
     "iopub.execute_input": "2021-08-28T17:02:25.590202Z",
     "iopub.status.busy": "2021-08-28T17:02:25.589882Z",
     "iopub.status.idle": "2021-08-28T17:02:25.604945Z",
     "shell.execute_reply": "2021-08-28T17:02:25.603986Z",
     "shell.execute_reply.started": "2021-08-28T17:02:25.590172Z"
    },
    "id": "-6aP_6BvbPes"
   },
   "outputs": [],
   "source": [
    "root_path = './Saved Models'\n",
    "save_model = True\n",
    "\n",
    "if save_model is True:\n",
    "    # Saves only parameters\n",
    "    # weights & biases\n",
    "    torch.save(model.state_dict(), root_path + '170104021_1.pkl') "
   ]
  },
  {
   "cell_type": "code",
   "execution_count": 38,
   "metadata": {
    "execution": {
     "iopub.execute_input": "2021-08-28T17:04:21.112640Z",
     "iopub.status.busy": "2021-08-28T17:04:21.112254Z",
     "iopub.status.idle": "2021-08-28T17:04:21.120128Z",
     "shell.execute_reply": "2021-08-28T17:04:21.119256Z",
     "shell.execute_reply.started": "2021-08-28T17:04:21.112607Z"
    }
   },
   "outputs": [
    {
     "name": "stdout",
     "output_type": "stream",
     "text": [
      "Iteration: 19440. Loss: 2.311455249786377. Accuracy: 9.405227413047951\n"
     ]
    }
   ],
   "source": [
    "print('Iteration: {}. Loss: {}. Accuracy: {}'.format(iter, loss.item(), accuracy))"
   ]
  }
 ],
 "metadata": {
  "kernelspec": {
   "display_name": "Python 3",
   "language": "python",
   "name": "python3"
  },
  "language_info": {
   "codemirror_mode": {
    "name": "ipython",
    "version": 3
   },
   "file_extension": ".py",
   "mimetype": "text/x-python",
   "name": "python",
   "nbconvert_exporter": "python",
   "pygments_lexer": "ipython3",
   "version": "3.8.8"
  }
 },
 "nbformat": 4,
 "nbformat_minor": 4
}
