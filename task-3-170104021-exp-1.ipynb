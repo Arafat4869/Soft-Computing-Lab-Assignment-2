{
 "cells": [
  {
   "cell_type": "markdown",
   "metadata": {},
   "source": [
    "# Mounting Google Drive"
   ]
  },
  {
   "cell_type": "code",
   "execution_count": null,
   "metadata": {
    "id": "4Ul0tu8z8v9z",
    "outputId": "6367599d-7522-4984-ec7b-6b319637f7e2"
   },
   "outputs": [],
   "source": [
    "from google.colab import drive\n",
    "drive.mount('/content/gdrive')"
   ]
  },
  {
   "cell_type": "markdown",
   "metadata": {},
   "source": [
    "# Importing Libraries"
   ]
  },
  {
   "cell_type": "code",
   "execution_count": 2,
   "metadata": {
    "execution": {
     "iopub.execute_input": "2021-08-29T04:57:04.735313Z",
     "iopub.status.busy": "2021-08-29T04:57:04.734987Z",
     "iopub.status.idle": "2021-08-29T04:57:06.048918Z",
     "shell.execute_reply": "2021-08-29T04:57:06.047856Z",
     "shell.execute_reply.started": "2021-08-29T04:57:04.735286Z"
    },
    "id": "sMzXpTSF832l"
   },
   "outputs": [],
   "source": [
    "import os\n",
    "from os import path\n",
    "import numpy as np\n",
    "import pandas as pd\n",
    "import matplotlib\n",
    "import matplotlib.pyplot as plt\n",
    "import torch\n",
    "import torch.nn as nn\n",
    "import torch.nn.functional as F\n",
    "import torch.optim as optim\n",
    "from torch.utils.data import Dataset\n",
    "from torch.utils.data.sampler import SubsetRandomSampler\n",
    "from torchvision import datasets, transforms, models\n",
    "from PIL import Image\n",
    "from mlxtend.data import loadlocal_mnist"
   ]
  },
  {
   "cell_type": "markdown",
   "metadata": {},
   "source": [
    "## Unzipping the zip file"
   ]
  },
  {
   "cell_type": "code",
   "execution_count": null,
   "metadata": {
    "id": "_1LIhQf_83-j",
    "outputId": "4a7f94c0-30bc-4a1b-861a-5f6e08c7b055"
   },
   "outputs": [],
   "source": [
    "!unzip '/content/gdrive/MyDrive/4.2/CSE 4238/Dataset C.zip'"
   ]
  },
  {
   "cell_type": "markdown",
   "metadata": {},
   "source": [
    "# Reading Data From the csv File"
   ]
  },
  {
   "cell_type": "code",
   "execution_count": 3,
   "metadata": {
    "execution": {
     "iopub.execute_input": "2021-08-29T04:57:08.767451Z",
     "iopub.status.busy": "2021-08-29T04:57:08.767092Z",
     "iopub.status.idle": "2021-08-29T04:57:08.785661Z",
     "shell.execute_reply": "2021-08-29T04:57:08.784578Z",
     "shell.execute_reply.started": "2021-08-29T04:57:08.767402Z"
    },
    "scrolled": true
   },
   "outputs": [
    {
     "name": "stdout",
     "output_type": "stream",
     "text": [
      "../input/cse-4238/Dataset_2/Dataset_2/t10k-labels-idx1-ubyte\n",
      "../input/cse-4238/Dataset_2/Dataset_2/verification_train.csv\n",
      "../input/cse-4238/Dataset_2/Dataset_2/t10k-images-idx3-ubyte\n",
      "../input/cse-4238/Dataset_2/Dataset_2/verification_test.csv\n",
      "../input/cse-4238/Dataset_2/Dataset_2/train-labels-idx1-ubyte\n",
      "../input/cse-4238/Dataset_2/Dataset_2/train-images-idx3-ubyte\n"
     ]
    }
   ],
   "source": [
    "for dirname, _, filenames in os.walk('../input/cse-4238/Dataset_2/Dataset_2'):\n",
    "    for filename in filenames:\n",
    "        print(os.path.join(dirname, filename))"
   ]
  },
  {
   "cell_type": "code",
   "execution_count": 7,
   "metadata": {
    "execution": {
     "iopub.execute_input": "2021-08-29T05:01:51.225669Z",
     "iopub.status.busy": "2021-08-29T05:01:51.225340Z",
     "iopub.status.idle": "2021-08-29T05:01:51.230641Z",
     "shell.execute_reply": "2021-08-29T05:01:51.229245Z",
     "shell.execute_reply.started": "2021-08-29T05:01:51.225642Z"
    }
   },
   "outputs": [],
   "source": [
    "training_images_filepath = '../input/cse-4238/Dataset_2/Dataset_2/train-images-idx3-ubyte'\n",
    "training_labels_filepath = '../input/cse-4238/Dataset_2/Dataset_2/train-labels-idx1-ubyte'\n",
    "test_images_filepath = '../input/cse-4238/Dataset_2/Dataset_2/t10k-images-idx3-ubyte'\n",
    "test_labels_filepath = '../input/cse-4238/Dataset_2/Dataset_2/t10k-labels-idx1-ubyte'"
   ]
  },
  {
   "cell_type": "code",
   "execution_count": 8,
   "metadata": {
    "execution": {
     "iopub.execute_input": "2021-08-29T05:01:52.844558Z",
     "iopub.status.busy": "2021-08-29T05:01:52.844166Z",
     "iopub.status.idle": "2021-08-29T05:01:53.670106Z",
     "shell.execute_reply": "2021-08-29T05:01:53.668744Z",
     "shell.execute_reply.started": "2021-08-29T05:01:52.844521Z"
    }
   },
   "outputs": [],
   "source": [
    "X_train, y_train = loadlocal_mnist(training_images_filepath,training_labels_filepath)\n",
    "X_test,y_test = loadlocal_mnist(test_images_filepath, test_labels_filepath)"
   ]
  },
  {
   "cell_type": "code",
   "execution_count": 9,
   "metadata": {
    "execution": {
     "iopub.execute_input": "2021-08-29T05:02:10.826381Z",
     "iopub.status.busy": "2021-08-29T05:02:10.825873Z",
     "iopub.status.idle": "2021-08-29T05:02:10.835121Z",
     "shell.execute_reply": "2021-08-29T05:02:10.833774Z",
     "shell.execute_reply.started": "2021-08-29T05:02:10.826331Z"
    }
   },
   "outputs": [
    {
     "name": "stdout",
     "output_type": "stream",
     "text": [
      "Dimension of training images: (60000, 784)\n",
      "Dimension of trainig labels: (60000,)\n",
      "Dimension of testing images: (10000, 784)\n",
      "Dimension of testing labels: (10000,)\n"
     ]
    }
   ],
   "source": [
    "print('Dimension of training images:', np.shape(X_train))\n",
    "print('Dimension of trainig labels:',np.shape(y_train))\n",
    "print('Dimension of testing images:', np.shape(X_test))\n",
    "print('Dimension of testing labels:',np.shape(y_test))"
   ]
  },
  {
   "cell_type": "code",
   "execution_count": 12,
   "metadata": {
    "execution": {
     "iopub.execute_input": "2021-08-29T05:04:10.036579Z",
     "iopub.status.busy": "2021-08-29T05:04:10.036211Z",
     "iopub.status.idle": "2021-08-29T05:04:10.042844Z",
     "shell.execute_reply": "2021-08-29T05:04:10.041256Z",
     "shell.execute_reply.started": "2021-08-29T05:04:10.036544Z"
    }
   },
   "outputs": [
    {
     "name": "stdout",
     "output_type": "stream",
     "text": [
      "Dimension of training images: (60000, 28, 28)\n",
      "Dimension of testing images: (10000, 28, 28)\n"
     ]
    }
   ],
   "source": [
    "X_train = X_train.reshape(60000, 28, 28)\n",
    "X_test = X_test.reshape(10000, 28, 28)\n",
    "\n",
    "\n",
    "print('Dimension of training images:', np.shape(X_train))\n",
    "print('Dimension of testing images:', np.shape(X_test))"
   ]
  },
  {
   "cell_type": "markdown",
   "metadata": {},
   "source": [
    "# Converting Images and Transforming them to Train and Test"
   ]
  },
  {
   "cell_type": "code",
   "execution_count": 28,
   "metadata": {
    "execution": {
     "iopub.execute_input": "2021-08-29T05:39:19.620642Z",
     "iopub.status.busy": "2021-08-29T05:39:19.620197Z",
     "iopub.status.idle": "2021-08-29T05:39:19.628304Z",
     "shell.execute_reply": "2021-08-29T05:39:19.626934Z",
     "shell.execute_reply.started": "2021-08-29T05:39:19.620606Z"
    },
    "id": "E3Sll-Sdcdqy"
   },
   "outputs": [],
   "source": [
    "class Dataset(Dataset):\n",
    "    def __init__(self, df, root, transform=None):\n",
    "        self.data = df\n",
    "        self.root = root\n",
    "        self.transform = transform\n",
    "        \n",
    "    def __len__(self):\n",
    "        return len(self.data)\n",
    "    \n",
    "    def __getitem__(self, index):\n",
    "        image = self.data[index]\n",
    "        pil_image = Image.fromarray(np.uint8(image)).convert('L')\n",
    "        label = self.root[index]\n",
    "        \n",
    "        if self.transform is not None:\n",
    "            image = self.transform(pil_image)\n",
    "            \n",
    "        return image, label"
   ]
  },
  {
   "cell_type": "code",
   "execution_count": 1,
   "metadata": {
    "execution": {
     "iopub.execute_input": "2021-08-29T05:39:21.250901Z",
     "iopub.status.busy": "2021-08-29T05:39:21.250576Z",
     "iopub.status.idle": "2021-08-29T05:39:21.258501Z",
     "shell.execute_reply": "2021-08-29T05:39:21.257437Z",
     "shell.execute_reply.started": "2021-08-29T05:39:21.250872Z"
    },
    "id": "k44dXEqsgstR",
    "outputId": "0e61a8e6-88b9-49b7-d963-b837d66d1642"
   },
   "outputs": [
    {
     "ename": "NameError",
     "evalue": "name 'transforms' is not defined",
     "output_type": "error",
     "traceback": [
      "\u001b[1;31m---------------------------------------------------------------------------\u001b[0m",
      "\u001b[1;31mNameError\u001b[0m                                 Traceback (most recent call last)",
      "\u001b[1;32m<ipython-input-1-d713413bdfdf>\u001b[0m in \u001b[0;36m<module>\u001b[1;34m\u001b[0m\n\u001b[0;32m      2\u001b[0m \u001b[0mstd\u001b[0m \u001b[1;33m=\u001b[0m \u001b[1;33m[\u001b[0m\u001b[1;36m0.5\u001b[0m\u001b[1;33m,\u001b[0m\u001b[1;33m]\u001b[0m\u001b[1;33m\u001b[0m\u001b[1;33m\u001b[0m\u001b[0m\n\u001b[0;32m      3\u001b[0m \u001b[1;33m\u001b[0m\u001b[0m\n\u001b[1;32m----> 4\u001b[1;33m train_transform = transforms.Compose([\n\u001b[0m\u001b[0;32m      5\u001b[0m     \u001b[0mtransforms\u001b[0m\u001b[1;33m.\u001b[0m\u001b[0mResize\u001b[0m\u001b[1;33m(\u001b[0m\u001b[1;36m28\u001b[0m\u001b[1;33m)\u001b[0m\u001b[1;33m,\u001b[0m\u001b[1;33m\u001b[0m\u001b[1;33m\u001b[0m\u001b[0m\n\u001b[0;32m      6\u001b[0m     \u001b[0mtransforms\u001b[0m\u001b[1;33m.\u001b[0m\u001b[0mToTensor\u001b[0m\u001b[1;33m(\u001b[0m\u001b[1;33m)\u001b[0m\u001b[1;33m,\u001b[0m\u001b[1;33m\u001b[0m\u001b[1;33m\u001b[0m\u001b[0m\n",
      "\u001b[1;31mNameError\u001b[0m: name 'transforms' is not defined"
     ]
    }
   ],
   "source": [
    "mean = [0.5,]\n",
    "std = [0.5,]\n",
    "\n",
    "train_transform = transforms.Compose([\n",
    "    transforms.Resize(28),\n",
    "    transforms.ToTensor(),\n",
    "    transforms.Normalize(mean, std)\n",
    "])\n",
    "\n",
    "test_transform = transforms.Compose([\n",
    "        transforms.Resize(28),\n",
    "        transforms.ToTensor(),\n",
    "        transforms.Normalize(mean, std)\n",
    "])\n",
    "\n",
    "train_data = Dataset(X_train, y_train, train_transform)\n",
    "test_data = Dataset(X_test, y_test, test_transform)\n",
    "\n",
    "print(\"Trainig Samples: \",len(train_data))\n",
    "print(\"Test Samples: \",len(test_data))"
   ]
  },
  {
   "cell_type": "markdown",
   "metadata": {
    "id": "mKB94bXzzF0e"
   },
   "source": [
    "# Hyperparameter Exp.1 Task 3\n",
    "*   No of hidden layers = 6\n",
    "*   Hidden Nodes = 200\n",
    "*   Iteration = 20000\n",
    "*   Learning rate = 0.01\n",
    "*   Batch Size = 20\n",
    "*   Activation Function : Sigmoid,Tanh,ReLU\n",
    "*   Optimizer : SGD\n",
    "*   Accuracy : 66.84%"
   ]
  },
  {
   "cell_type": "code",
   "execution_count": 30,
   "metadata": {
    "execution": {
     "iopub.execute_input": "2021-08-29T05:39:24.225553Z",
     "iopub.status.busy": "2021-08-29T05:39:24.225159Z",
     "iopub.status.idle": "2021-08-29T05:39:24.233803Z",
     "shell.execute_reply": "2021-08-29T05:39:24.232542Z",
     "shell.execute_reply.started": "2021-08-29T05:39:24.225520Z"
    },
    "id": "Jb_0E8-2meEu",
    "outputId": "26804ace-9653-481d-b7f7-e33f8e98ced2"
   },
   "outputs": [
    {
     "name": "stdout",
     "output_type": "stream",
     "text": [
      "Train dataloader:3000\n",
      "Test dataloader:500\n"
     ]
    }
   ],
   "source": [
    "batch_size = 20\n",
    "num_iters = 20000\n",
    "input_dim = 28*28\n",
    "output_dim = 10\n",
    "learning_rate = 0.01\n",
    "num_hidden = 200  #number of hidden nodes\n",
    "# Device\n",
    "device = torch.device(\"cuda:0\" if torch.cuda.is_available() else \"cpu\")\n",
    "\n",
    "\n",
    "# prepare loaders\n",
    "train_loader = torch.utils.data.DataLoader(\n",
    "    train_data, batch_size=batch_size,\n",
    "    shuffle=True)\n",
    "\n",
    "test_loader = torch.utils.data.DataLoader(\n",
    "    test_data, batch_size=batch_size,\n",
    "    shuffle=False)\n",
    "\n",
    "print(\"Train dataloader:{}\".format(len(train_loader)))\n",
    "print(\"Test dataloader:{}\".format(len(test_loader)))"
   ]
  },
  {
   "cell_type": "code",
   "execution_count": 31,
   "metadata": {
    "execution": {
     "iopub.execute_input": "2021-08-29T05:39:26.341661Z",
     "iopub.status.busy": "2021-08-29T05:39:26.341264Z",
     "iopub.status.idle": "2021-08-29T05:39:26.347902Z",
     "shell.execute_reply": "2021-08-29T05:39:26.346600Z",
     "shell.execute_reply.started": "2021-08-29T05:39:26.341627Z"
    },
    "id": "bEvDzfF11Cld",
    "outputId": "40f30006-856b-405f-b464-457a7d8eb761"
   },
   "outputs": [
    {
     "name": "stdout",
     "output_type": "stream",
     "text": [
      "6\n"
     ]
    }
   ],
   "source": [
    "num_epochs = num_iters / (len(train_data) / batch_size)\n",
    "num_epochs = int(num_epochs)\n",
    "print(num_epochs)"
   ]
  },
  {
   "cell_type": "markdown",
   "metadata": {},
   "source": [
    "# Creating Neural Network Model"
   ]
  },
  {
   "cell_type": "code",
   "execution_count": 32,
   "metadata": {
    "execution": {
     "iopub.execute_input": "2021-08-29T05:39:27.402451Z",
     "iopub.status.busy": "2021-08-29T05:39:27.402024Z",
     "iopub.status.idle": "2021-08-29T05:39:27.412631Z",
     "shell.execute_reply": "2021-08-29T05:39:27.411706Z",
     "shell.execute_reply.started": "2021-08-29T05:39:27.402389Z"
    },
    "id": "_N1pMR-l234V"
   },
   "outputs": [],
   "source": [
    "\n",
    "class DeepNeuralNetworkModel(nn.Module):\n",
    "    def __init__(self, input_size, num_classes, num_hidden):\n",
    "        super().__init__()\n",
    "        ### 1st hidden layer: 784 --> 200\n",
    "        self.linear_1 = nn.Linear(input_size, num_hidden)\n",
    "        ### Non-linearity in 1st hidden layer\n",
    "        self.relu_1 = nn.Sigmoid()\n",
    "\n",
    "        ### 2nd hidden layer: 200 --> 200\n",
    "        self.linear_2 = nn.Linear(num_hidden, num_hidden)\n",
    "        ### Non-linearity in 2nd hidden layer\n",
    "        self.relu_2 = nn.Tanh()\n",
    "\n",
    "        ### 3rd hidden layer: 200 --> 200\n",
    "        self.linear_3 = nn.Linear(num_hidden,num_hidden)\n",
    "        ## Non-linearity in 3rd hidden layer\n",
    "        self.relu_3 = nn.Sigmoid()\n",
    "        \n",
    "        ### 4th hidden layer: 200 --> 200\n",
    "        self.linear_4 = nn.Linear(num_hidden,num_hidden)\n",
    "        ## Non-linearity in 4th hidden layer\n",
    "        self.relu_4 = nn.Tanh()\n",
    "        \n",
    "        ### 5th hidden layer: 200 --> 200\n",
    "        self.linear_5 = nn.Linear(num_hidden,num_hidden)\n",
    "        ## Non-linearity in 5th hidden layer\n",
    "        self.relu_5 = nn.ReLU()\n",
    "        \n",
    "        ### 6th hidden layer: 200 --> 200\n",
    "        self.linear_6 = nn.Linear(num_hidden,num_hidden)\n",
    "        ## Non-linearity in 6th hidden layer\n",
    "        self.relu_6 = nn.ReLU()\n",
    "\n",
    "        ### Output layer: 100 --> 10\n",
    "        self.linear_out = nn.Linear(num_hidden, num_classes)\n",
    "\n",
    "    def forward(self, x):\n",
    "        ### 1st hidden layer\n",
    "        out  = self.linear_1(x)\n",
    "        ### Non-linearity in 1st hidden layer\n",
    "        out = self.relu_1(out)\n",
    "        \n",
    "        ### 2nd hidden layer\n",
    "        out  = self.linear_2(out)\n",
    "        ### Non-linearity in 2nd hidden layer\n",
    "        out = self.relu_2(out)\n",
    "\n",
    "        ### 3rd hidden layer\n",
    "        out  = self.linear_3(out)\n",
    "        ## Non-linearity in 3rd hidden layer\n",
    "        out = self.relu_3(out)\n",
    "        \n",
    "        ### 4th hidden layer\n",
    "        out  = self.linear_4(out)\n",
    "        ## Non-linearity in 4th hidden layer\n",
    "        out = self.relu_4(out)\n",
    "        \n",
    "        ### 5th hidden layer\n",
    "        out  = self.linear_5(out)\n",
    "        ## Non-linearity in 5th hidden layer\n",
    "        out = self.relu_5(out)\n",
    "        \n",
    "        ### 6th hidden layer\n",
    "        out  = self.linear_6(out)\n",
    "        ## Non-linearity in 6th hidden layer\n",
    "        out = self.relu_6(out)\n",
    "        \n",
    "        # Linear layer (output)\n",
    "        probas  = self.linear_out(out)\n",
    "        return probas"
   ]
  },
  {
   "cell_type": "code",
   "execution_count": 33,
   "metadata": {
    "execution": {
     "iopub.execute_input": "2021-08-29T05:39:29.776922Z",
     "iopub.status.busy": "2021-08-29T05:39:29.776613Z",
     "iopub.status.idle": "2021-08-29T05:39:29.789342Z",
     "shell.execute_reply": "2021-08-29T05:39:29.788364Z",
     "shell.execute_reply.started": "2021-08-29T05:39:29.776895Z"
    },
    "id": "3eP_1LEN3JJO",
    "outputId": "9007c2be-3271-4c60-eef9-b50e369a3d9d"
   },
   "outputs": [
    {
     "data": {
      "text/plain": [
       "DeepNeuralNetworkModel(\n",
       "  (linear_1): Linear(in_features=784, out_features=200, bias=True)\n",
       "  (relu_1): Sigmoid()\n",
       "  (linear_2): Linear(in_features=200, out_features=200, bias=True)\n",
       "  (relu_2): Tanh()\n",
       "  (linear_3): Linear(in_features=200, out_features=200, bias=True)\n",
       "  (relu_3): Sigmoid()\n",
       "  (linear_4): Linear(in_features=200, out_features=200, bias=True)\n",
       "  (relu_4): Tanh()\n",
       "  (linear_5): Linear(in_features=200, out_features=200, bias=True)\n",
       "  (relu_5): ReLU()\n",
       "  (linear_6): Linear(in_features=200, out_features=200, bias=True)\n",
       "  (relu_6): ReLU()\n",
       "  (linear_out): Linear(in_features=200, out_features=10, bias=True)\n",
       ")"
      ]
     },
     "execution_count": 33,
     "metadata": {},
     "output_type": "execute_result"
    }
   ],
   "source": [
    "\n",
    "'''\n",
    "INSTANTIATE MODEL CLASS\n",
    "'''\n",
    "model = DeepNeuralNetworkModel(input_size=input_dim,\n",
    "                                num_classes=output_dim,\n",
    "                                num_hidden = num_hidden)\n",
    "\n",
    "#To enable GPU\n",
    "model.to(device)"
   ]
  },
  {
   "cell_type": "markdown",
   "metadata": {},
   "source": [
    "# Optimizer (SGD)"
   ]
  },
  {
   "cell_type": "code",
   "execution_count": 34,
   "metadata": {
    "execution": {
     "iopub.execute_input": "2021-08-29T05:39:31.649007Z",
     "iopub.status.busy": "2021-08-29T05:39:31.648680Z",
     "iopub.status.idle": "2021-08-29T05:39:31.654055Z",
     "shell.execute_reply": "2021-08-29T05:39:31.652816Z",
     "shell.execute_reply.started": "2021-08-29T05:39:31.648971Z"
    },
    "id": "YzipH5Re3JsL"
   },
   "outputs": [],
   "source": [
    "optimizer = torch.optim.SGD(model.parameters(), lr=learning_rate)\n",
    "criterion = nn.CrossEntropyLoss()"
   ]
  },
  {
   "cell_type": "code",
   "execution_count": 36,
   "metadata": {
    "execution": {
     "iopub.execute_input": "2021-08-29T05:39:45.038899Z",
     "iopub.status.busy": "2021-08-29T05:39:45.038577Z",
     "iopub.status.idle": "2021-08-29T05:42:51.773840Z",
     "shell.execute_reply": "2021-08-29T05:42:51.772807Z",
     "shell.execute_reply.started": "2021-08-29T05:39:45.038869Z"
    },
    "id": "T1bWKEQN3P09",
    "outputId": "ad0e6f20-0da4-4995-93d9-8b9f8a7c8e38"
   },
   "outputs": [
    {
     "name": "stdout",
     "output_type": "stream",
     "text": [
      "Iteration: 500. Loss: 2.2962546348571777. Accuracy: 9.92\n",
      "Iteration: 1000. Loss: 2.304746627807617. Accuracy: 10.0\n",
      "Iteration: 1500. Loss: 2.3079190254211426. Accuracy: 10.08\n",
      "Iteration: 2000. Loss: 2.2998898029327393. Accuracy: 10.0\n",
      "Iteration: 2500. Loss: 2.2994186878204346. Accuracy: 10.0\n",
      "Iteration: 3000. Loss: 2.3032431602478027. Accuracy: 10.0\n",
      "Iteration: 3500. Loss: 2.305727243423462. Accuracy: 10.0\n",
      "Iteration: 4000. Loss: 2.306948661804199. Accuracy: 10.0\n",
      "Iteration: 4500. Loss: 2.305553913116455. Accuracy: 10.14\n",
      "Iteration: 5000. Loss: 2.3021485805511475. Accuracy: 10.0\n",
      "Iteration: 5500. Loss: 2.29921817779541. Accuracy: 18.36\n",
      "Iteration: 6000. Loss: 2.2903685569763184. Accuracy: 10.0\n",
      "Iteration: 6500. Loss: 2.295825242996216. Accuracy: 17.13\n",
      "Iteration: 7000. Loss: 2.268277406692505. Accuracy: 19.31\n",
      "Iteration: 7500. Loss: 1.9016395807266235. Accuracy: 20.82\n",
      "Iteration: 8000. Loss: 1.610903024673462. Accuracy: 28.23\n",
      "Iteration: 8500. Loss: 1.3813726902008057. Accuracy: 41.45\n",
      "Iteration: 9000. Loss: 0.9432529211044312. Accuracy: 49.61\n",
      "Iteration: 9500. Loss: 1.103293776512146. Accuracy: 53.0\n",
      "Iteration: 10000. Loss: 0.9664646983146667. Accuracy: 51.65\n",
      "Iteration: 10500. Loss: 1.1630980968475342. Accuracy: 54.01\n",
      "Iteration: 11000. Loss: 0.9354449510574341. Accuracy: 58.48\n",
      "Iteration: 11500. Loss: 0.9719864726066589. Accuracy: 57.03\n",
      "Iteration: 12000. Loss: 1.1152241230010986. Accuracy: 53.96\n",
      "Iteration: 12500. Loss: 0.8057543039321899. Accuracy: 61.62\n",
      "Iteration: 13000. Loss: 1.215580701828003. Accuracy: 60.85\n",
      "Iteration: 13500. Loss: 1.2742947340011597. Accuracy: 61.97\n",
      "Iteration: 14000. Loss: 0.8395782709121704. Accuracy: 56.64\n",
      "Iteration: 14500. Loss: 0.5742080211639404. Accuracy: 61.48\n",
      "Iteration: 15000. Loss: 1.4005743265151978. Accuracy: 60.14\n",
      "Iteration: 15500. Loss: 0.9259659647941589. Accuracy: 65.87\n",
      "Iteration: 16000. Loss: 0.5982814431190491. Accuracy: 66.96\n",
      "Iteration: 16500. Loss: 1.0920178890228271. Accuracy: 67.53\n",
      "Iteration: 17000. Loss: 0.8468717336654663. Accuracy: 67.94\n",
      "Iteration: 17500. Loss: 0.9248179197311401. Accuracy: 67.58\n",
      "Iteration: 18000. Loss: 1.2342479228973389. Accuracy: 66.84\n",
      "Iteration: 18000. Loss: 1.2342479228973389. Accuracy: 66.84\n"
     ]
    }
   ],
   "source": [
    "\n",
    "iteration_loss = []\n",
    "iter = 0\n",
    "for epoch in range(num_epochs):\n",
    "    for i, (images, labels) in enumerate(train_loader):\n",
    "\n",
    "        images = images.view(-1, 28*28).to(device)\n",
    "        labels = labels.to(device)\n",
    "\n",
    "        # Clear gradients w.r.t. parameters\n",
    "        optimizer.zero_grad()\n",
    "\n",
    "        # Forward pass to get output/logits\n",
    "        outputs = model(images) \n",
    "\n",
    "        # Calculate Loss: softmax --> cross entropy loss\n",
    "        loss = criterion(outputs, labels.long())\n",
    "\n",
    "        # Getting gradients w.r.t. parameters\n",
    "        loss.backward()\n",
    "\n",
    "        # Updating parameters\n",
    "        optimizer.step()\n",
    "\n",
    "        iter += 1\n",
    "\n",
    "        if iter % 500 == 0:\n",
    "            # Calculate Accuracy         \n",
    "            correct = 0\n",
    "            total = 0\n",
    "            # Iterate through test dataset\n",
    "            for images, labels in test_loader:\n",
    "               \n",
    "                images = images.view(-1, 28*28).to(device)\n",
    "\n",
    "                # Forward pass only to get logits/output\n",
    "                outputs = model(images)\n",
    "\n",
    "                # Get predictions from the maximum value\n",
    "                _, predicted = torch.max(outputs, 1)\n",
    "\n",
    "                # Total number of labels\n",
    "                total += labels.size(0)\n",
    "\n",
    "\n",
    "                # Total correct predictions\n",
    "                if torch.cuda.is_available():\n",
    "                    correct += (predicted.cpu() == labels.cpu()).sum() \n",
    "                else:\n",
    "                    correct += (predicted == labels).sum()\n",
    "\n",
    "            accuracy = 100 * correct.item() / total\n",
    "\n",
    "            # Print Loss\n",
    "            iteration_loss.append(loss.item())\n",
    "            print('Iteration: {}. Loss: {}. Accuracy: {}'.format(iter, loss.item(), accuracy))\n",
    "print('Iteration: {}. Loss: {}. Accuracy: {}'.format(iter, loss.item(), accuracy))"
   ]
  },
  {
   "cell_type": "markdown",
   "metadata": {},
   "source": [
    "# Plotting Loss Graph According to Iterations"
   ]
  },
  {
   "cell_type": "code",
   "execution_count": 38,
   "metadata": {
    "execution": {
     "iopub.execute_input": "2021-08-29T05:43:52.967988Z",
     "iopub.status.busy": "2021-08-29T05:43:52.967522Z",
     "iopub.status.idle": "2021-08-29T05:43:53.871664Z",
     "shell.execute_reply": "2021-08-29T05:43:53.870794Z",
     "shell.execute_reply.started": "2021-08-29T05:43:52.967945Z"
    },
    "id": "H_tu7OIw3TYg",
    "outputId": "b9023961-ca31-40ee-d3e0-b03d51d7e400"
   },
   "outputs": [
    {
     "name": "stdout",
     "output_type": "stream",
     "text": [
      "[2.2962546348571777, 2.304746627807617, 2.3079190254211426, 2.2998898029327393, 2.2994186878204346, 2.3032431602478027, 2.305727243423462, 2.306948661804199, 2.305553913116455, 2.3021485805511475, 2.29921817779541, 2.2903685569763184, 2.295825242996216, 2.268277406692505, 1.9016395807266235, 1.610903024673462, 1.3813726902008057, 0.9432529211044312, 1.103293776512146, 0.9664646983146667, 1.1630980968475342, 0.9354449510574341, 0.9719864726066589, 1.1152241230010986, 0.8057543039321899, 1.215580701828003, 1.2742947340011597, 0.8395782709121704, 0.5742080211639404, 1.4005743265151978, 0.9259659647941589, 0.5982814431190491, 1.0920178890228271, 0.8468717336654663, 0.9248179197311401, 1.2342479228973389]\n"
     ]
    },
    {
     "data": {
      "image/png": "[encoded data removed]",
      "text/plain": [
       "<Figure size 432x288 with 1 Axes>"
      ]
     },
     "metadata": {
      "needs_background": "light"
     },
     "output_type": "display_data"
    }
   ],
   "source": [
    "print (iteration_loss)\n",
    "plt.plot(iteration_loss)\n",
    "plt.ylabel('Cross Entropy Loss')\n",
    "plt.xlabel('Iteration (in every 500)')\n",
    "plt.savefig('Task_3_Exp_1.png', dpi=600, bbox_inches='tight')\n",
    "plt.show()"
   ]
  },
  {
   "cell_type": "markdown",
   "metadata": {},
   "source": [
    "# Saving the Model"
   ]
  },
  {
   "cell_type": "code",
   "execution_count": 39,
   "metadata": {
    "execution": {
     "iopub.execute_input": "2021-08-29T05:43:57.605891Z",
     "iopub.status.busy": "2021-08-29T05:43:57.605566Z",
     "iopub.status.idle": "2021-08-29T05:43:57.616903Z",
     "shell.execute_reply": "2021-08-29T05:43:57.615670Z",
     "shell.execute_reply.started": "2021-08-29T05:43:57.605864Z"
    },
    "id": "-6aP_6BvbPes"
   },
   "outputs": [],
   "source": [
    "root_path = './Saved Models'\n",
    "save_model = True\n",
    "\n",
    "if save_model is True:\n",
    "    # Saves only parameters\n",
    "    # weights & biases\n",
    "    torch.save(model.state_dict(), root_path + 'Task_3_Exp_1.pkl') "
   ]
  },
  {
   "cell_type": "code",
   "execution_count": 40,
   "metadata": {
    "execution": {
     "iopub.execute_input": "2021-08-29T05:44:00.224267Z",
     "iopub.status.busy": "2021-08-29T05:44:00.223924Z",
     "iopub.status.idle": "2021-08-29T05:44:00.231072Z",
     "shell.execute_reply": "2021-08-29T05:44:00.229487Z",
     "shell.execute_reply.started": "2021-08-29T05:44:00.224237Z"
    }
   },
   "outputs": [
    {
     "name": "stdout",
     "output_type": "stream",
     "text": [
      "Iteration: 18000. Loss: 1.2342479228973389. Accuracy: 66.84\n"
     ]
    }
   ],
   "source": [
    "print('Iteration: {}. Loss: {}. Accuracy: {}'.format(iter, loss.item(), accuracy))"
   ]
  }
 ],
 "metadata": {
  "kernelspec": {
   "display_name": "Python 3",
   "language": "python",
   "name": "python3"
  },
  "language_info": {
   "codemirror_mode": {
    "name": "ipython",
    "version": 3
   },
   "file_extension": ".py",
   "mimetype": "text/x-python",
   "name": "python",
   "nbconvert_exporter": "python",
   "pygments_lexer": "ipython3",
   "version": "3.8.8"
  }
 },
 "nbformat": 4,
 "nbformat_minor": 4
}
