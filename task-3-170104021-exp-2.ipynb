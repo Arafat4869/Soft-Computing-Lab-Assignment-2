{
 "cells": [
  {
   "cell_type": "markdown",
   "metadata": {},
   "source": [
    "# Mounting Google Drive"
   ]
  },
  {
   "cell_type": "code",
   "execution_count": null,
   "metadata": {
    "id": "4Ul0tu8z8v9z",
    "outputId": "6367599d-7522-4984-ec7b-6b319637f7e2"
   },
   "outputs": [],
   "source": [
    "from google.colab import drive\n",
    "drive.mount('/content/gdrive')"
   ]
  },
  {
   "cell_type": "markdown",
   "metadata": {},
   "source": [
    "# Importing Libraries"
   ]
  },
  {
   "cell_type": "code",
   "execution_count": 1,
   "metadata": {
    "execution": {
     "iopub.execute_input": "2021-08-29T05:53:56.761483Z",
     "iopub.status.busy": "2021-08-29T05:53:56.761121Z",
     "iopub.status.idle": "2021-08-29T05:53:58.394032Z",
     "shell.execute_reply": "2021-08-29T05:53:58.393173Z",
     "shell.execute_reply.started": "2021-08-29T05:53:56.761407Z"
    },
    "id": "sMzXpTSF832l"
   },
   "outputs": [],
   "source": [
    "import os\n",
    "from os import path\n",
    "import numpy as np\n",
    "import pandas as pd\n",
    "import matplotlib\n",
    "import matplotlib.pyplot as plt\n",
    "import torch\n",
    "import torch.nn as nn\n",
    "import torch.nn.functional as F\n",
    "import torch.optim as optim\n",
    "from torch.utils.data import Dataset\n",
    "from torch.utils.data.sampler import SubsetRandomSampler\n",
    "from torchvision import datasets, transforms, models\n",
    "from PIL import Image\n",
    "from mlxtend.data import loadlocal_mnist"
   ]
  },
  {
   "cell_type": "markdown",
   "metadata": {},
   "source": [
    "## Unzipping the zip file"
   ]
  },
  {
   "cell_type": "code",
   "execution_count": null,
   "metadata": {
    "id": "_1LIhQf_83-j",
    "outputId": "4a7f94c0-30bc-4a1b-861a-5f6e08c7b055"
   },
   "outputs": [],
   "source": [
    "!unzip '/content/gdrive/MyDrive/4.2/CSE 4238/Dataset C.zip'"
   ]
  },
  {
   "cell_type": "markdown",
   "metadata": {},
   "source": [
    "# Reading Data From the csv File"
   ]
  },
  {
   "cell_type": "code",
   "execution_count": 2,
   "metadata": {
    "execution": {
     "iopub.execute_input": "2021-08-29T05:54:04.074541Z",
     "iopub.status.busy": "2021-08-29T05:54:04.074223Z",
     "iopub.status.idle": "2021-08-29T05:54:04.094537Z",
     "shell.execute_reply": "2021-08-29T05:54:04.093541Z",
     "shell.execute_reply.started": "2021-08-29T05:54:04.074512Z"
    }
   },
   "outputs": [
    {
     "name": "stdout",
     "output_type": "stream",
     "text": [
      "../input/cse-4238/Dataset_2/Dataset_2/t10k-labels-idx1-ubyte\n",
      "../input/cse-4238/Dataset_2/Dataset_2/verification_train.csv\n",
      "../input/cse-4238/Dataset_2/Dataset_2/t10k-images-idx3-ubyte\n",
      "../input/cse-4238/Dataset_2/Dataset_2/verification_test.csv\n",
      "../input/cse-4238/Dataset_2/Dataset_2/train-labels-idx1-ubyte\n",
      "../input/cse-4238/Dataset_2/Dataset_2/train-images-idx3-ubyte\n"
     ]
    }
   ],
   "source": [
    "for dirname, _, filenames in os.walk('../input/cse-4238/Dataset_2/Dataset_2'):\n",
    "    for filename in filenames:\n",
    "        print(os.path.join(dirname, filename))"
   ]
  },
  {
   "cell_type": "code",
   "execution_count": 3,
   "metadata": {
    "execution": {
     "iopub.execute_input": "2021-08-29T05:54:06.204947Z",
     "iopub.status.busy": "2021-08-29T05:54:06.204584Z",
     "iopub.status.idle": "2021-08-29T05:54:06.210801Z",
     "shell.execute_reply": "2021-08-29T05:54:06.209649Z",
     "shell.execute_reply.started": "2021-08-29T05:54:06.204917Z"
    }
   },
   "outputs": [],
   "source": [
    "training_images_filepath = '../input/cse-4238/Dataset_2/Dataset_2/train-images-idx3-ubyte'\n",
    "training_labels_filepath = '../input/cse-4238/Dataset_2/Dataset_2/train-labels-idx1-ubyte'\n",
    "test_images_filepath = '../input/cse-4238/Dataset_2/Dataset_2/t10k-images-idx3-ubyte'\n",
    "test_labels_filepath = '../input/cse-4238/Dataset_2/Dataset_2/t10k-labels-idx1-ubyte'"
   ]
  },
  {
   "cell_type": "code",
   "execution_count": 4,
   "metadata": {
    "execution": {
     "iopub.execute_input": "2021-08-29T05:54:08.409127Z",
     "iopub.status.busy": "2021-08-29T05:54:08.408792Z",
     "iopub.status.idle": "2021-08-29T05:54:09.520349Z",
     "shell.execute_reply": "2021-08-29T05:54:09.519453Z",
     "shell.execute_reply.started": "2021-08-29T05:54:08.409096Z"
    }
   },
   "outputs": [],
   "source": [
    "X_train, y_train = loadlocal_mnist(training_images_filepath,training_labels_filepath)\n",
    "X_test,y_test = loadlocal_mnist(test_images_filepath, test_labels_filepath)"
   ]
  },
  {
   "cell_type": "code",
   "execution_count": 5,
   "metadata": {
    "execution": {
     "iopub.execute_input": "2021-08-29T05:54:10.779036Z",
     "iopub.status.busy": "2021-08-29T05:54:10.778648Z",
     "iopub.status.idle": "2021-08-29T05:54:10.788500Z",
     "shell.execute_reply": "2021-08-29T05:54:10.784633Z",
     "shell.execute_reply.started": "2021-08-29T05:54:10.779005Z"
    }
   },
   "outputs": [
    {
     "name": "stdout",
     "output_type": "stream",
     "text": [
      "Dimension of training images: (60000, 784)\n",
      "Dimension of trainig labels: (60000,)\n",
      "Dimension of testing images: (10000, 784)\n",
      "Dimension of testing labels: (10000,)\n"
     ]
    }
   ],
   "source": [
    "print('Dimension of training images:', np.shape(X_train))\n",
    "print('Dimension of trainig labels:',np.shape(y_train))\n",
    "print('Dimension of testing images:', np.shape(X_test))\n",
    "print('Dimension of testing labels:',np.shape(y_test))"
   ]
  },
  {
   "cell_type": "code",
   "execution_count": 6,
   "metadata": {
    "execution": {
     "iopub.execute_input": "2021-08-29T05:54:12.978007Z",
     "iopub.status.busy": "2021-08-29T05:54:12.977607Z",
     "iopub.status.idle": "2021-08-29T05:54:12.983400Z",
     "shell.execute_reply": "2021-08-29T05:54:12.982596Z",
     "shell.execute_reply.started": "2021-08-29T05:54:12.977978Z"
    }
   },
   "outputs": [
    {
     "name": "stdout",
     "output_type": "stream",
     "text": [
      "Dimension of training images: (60000, 28, 28)\n",
      "Dimension of testing images: (10000, 28, 28)\n"
     ]
    }
   ],
   "source": [
    "X_train = X_train.reshape(60000, 28, 28)\n",
    "X_test = X_test.reshape(10000, 28, 28)\n",
    "\n",
    "\n",
    "print('Dimension of training images:', np.shape(X_train))\n",
    "print('Dimension of testing images:', np.shape(X_test))"
   ]
  },
  {
   "cell_type": "markdown",
   "metadata": {},
   "source": [
    "# Converting Images and Transforming them to Train and Test"
   ]
  },
  {
   "cell_type": "code",
   "execution_count": 7,
   "metadata": {
    "execution": {
     "iopub.execute_input": "2021-08-29T05:54:27.856220Z",
     "iopub.status.busy": "2021-08-29T05:54:27.855872Z",
     "iopub.status.idle": "2021-08-29T05:54:27.862908Z",
     "shell.execute_reply": "2021-08-29T05:54:27.861664Z",
     "shell.execute_reply.started": "2021-08-29T05:54:27.856188Z"
    },
    "id": "E3Sll-Sdcdqy"
   },
   "outputs": [],
   "source": [
    "class Dataset(Dataset):\n",
    "    def __init__(self, df, root, transform=None):\n",
    "        self.data = df\n",
    "        self.root = root\n",
    "        self.transform = transform\n",
    "        \n",
    "    def __len__(self):\n",
    "        return len(self.data)\n",
    "    \n",
    "    def __getitem__(self, index):\n",
    "        image = self.data[index]\n",
    "        pil_image = Image.fromarray(np.uint8(image)).convert('L')\n",
    "        label = self.root[index]\n",
    "        \n",
    "        if self.transform is not None:\n",
    "            image = self.transform(pil_image)\n",
    "            \n",
    "        return image, label"
   ]
  },
  {
   "cell_type": "code",
   "execution_count": 8,
   "metadata": {
    "execution": {
     "iopub.execute_input": "2021-08-29T05:54:31.006605Z",
     "iopub.status.busy": "2021-08-29T05:54:31.006286Z",
     "iopub.status.idle": "2021-08-29T05:54:31.014679Z",
     "shell.execute_reply": "2021-08-29T05:54:31.013574Z",
     "shell.execute_reply.started": "2021-08-29T05:54:31.006577Z"
    },
    "id": "k44dXEqsgstR",
    "outputId": "0e61a8e6-88b9-49b7-d963-b837d66d1642"
   },
   "outputs": [
    {
     "name": "stdout",
     "output_type": "stream",
     "text": [
      "Trainig Samples:  60000\n",
      "Trainig Samples:  10000\n"
     ]
    }
   ],
   "source": [
    "mean = [0.5,]\n",
    "std = [0.5,]\n",
    "\n",
    "train_transform = transforms.Compose([\n",
    "    transforms.Resize(28),\n",
    "    transforms.ToTensor(),\n",
    "    transforms.Normalize(mean, std)\n",
    "])\n",
    "\n",
    "test_transform = transforms.Compose([\n",
    "        transforms.Resize(28),\n",
    "        transforms.ToTensor(),\n",
    "        transforms.Normalize(mean, std)\n",
    "])\n",
    "\n",
    "train_data = Dataset(X_train, y_train, train_transform)\n",
    "test_data = Dataset(X_test, y_test, test_transform)\n",
    "\n",
    "print(\"Trainig Samples: \",len(train_data))\n",
    "print(\"Trainig Samples: \",len(test_data))"
   ]
  },
  {
   "cell_type": "markdown",
   "metadata": {
    "id": "mKB94bXzzF0e"
   },
   "source": [
    "# Hyperparameter Setting 6 Exp.2 Task 3\n",
    "*   No of hidden layers = 3\n",
    "*   Hidden Nodes = 784-300-200-100-10\n",
    "*   Iteration = 80000\n",
    "*   Learning rate = 0.05\n",
    "*   Batch Size = 64\n",
    "*   Activation Function : ReLU,ReLU6\n",
    "*   Optimizer : SGD\n",
    "*   Accuracy : 89.33%"
   ]
  },
  {
   "cell_type": "code",
   "execution_count": 9,
   "metadata": {
    "execution": {
     "iopub.execute_input": "2021-08-29T05:54:34.236726Z",
     "iopub.status.busy": "2021-08-29T05:54:34.236394Z",
     "iopub.status.idle": "2021-08-29T05:54:34.303996Z",
     "shell.execute_reply": "2021-08-29T05:54:34.302976Z",
     "shell.execute_reply.started": "2021-08-29T05:54:34.236695Z"
    },
    "id": "Jb_0E8-2meEu",
    "outputId": "26804ace-9653-481d-b7f7-e33f8e98ced2"
   },
   "outputs": [
    {
     "name": "stdout",
     "output_type": "stream",
     "text": [
      "Train dataloader:938\n",
      "Test dataloader:157\n"
     ]
    }
   ],
   "source": [
    "batch_size = 64\n",
    "num_iters = 80000\n",
    "input_dim = 28*28\n",
    "output_dim = 10\n",
    "learning_rate = 0.05\n",
    "num_hidden = 300  #number of hidden nodes\n",
    "# Device\n",
    "device = torch.device(\"cuda:0\" if torch.cuda.is_available() else \"cpu\")\n",
    "\n",
    "\n",
    "# prepare loaders\n",
    "train_loader = torch.utils.data.DataLoader(\n",
    "    train_data, batch_size=batch_size,\n",
    "    shuffle=True)\n",
    "\n",
    "test_loader = torch.utils.data.DataLoader(\n",
    "    test_data, batch_size=batch_size,\n",
    "    shuffle=False)\n",
    "\n",
    "print(\"Train dataloader:{}\".format(len(train_loader)))\n",
    "print(\"Test dataloader:{}\".format(len(test_loader)))"
   ]
  },
  {
   "cell_type": "code",
   "execution_count": 10,
   "metadata": {
    "execution": {
     "iopub.execute_input": "2021-08-29T05:54:36.929041Z",
     "iopub.status.busy": "2021-08-29T05:54:36.928724Z",
     "iopub.status.idle": "2021-08-29T05:54:36.934053Z",
     "shell.execute_reply": "2021-08-29T05:54:36.933166Z",
     "shell.execute_reply.started": "2021-08-29T05:54:36.929014Z"
    },
    "id": "bEvDzfF11Cld",
    "outputId": "40f30006-856b-405f-b464-457a7d8eb761"
   },
   "outputs": [
    {
     "name": "stdout",
     "output_type": "stream",
     "text": [
      "85\n"
     ]
    }
   ],
   "source": [
    "num_epochs = num_iters / (len(train_data) / batch_size)\n",
    "num_epochs = int(num_epochs)\n",
    "print(num_epochs)"
   ]
  },
  {
   "cell_type": "markdown",
   "metadata": {},
   "source": [
    "# Creating Neural Network Model"
   ]
  },
  {
   "cell_type": "code",
   "execution_count": 11,
   "metadata": {
    "execution": {
     "iopub.execute_input": "2021-08-29T05:55:05.895045Z",
     "iopub.status.busy": "2021-08-29T05:55:05.894723Z",
     "iopub.status.idle": "2021-08-29T05:55:05.903596Z",
     "shell.execute_reply": "2021-08-29T05:55:05.902574Z",
     "shell.execute_reply.started": "2021-08-29T05:55:05.895015Z"
    },
    "id": "_N1pMR-l234V"
   },
   "outputs": [],
   "source": [
    "\n",
    "class DeepNeuralNetworkModel(nn.Module):\n",
    "    def __init__(self, input_size, num_classes, num_hidden):\n",
    "        super().__init__()\n",
    "        ### 1st hidden layer: 784 --> 200\n",
    "        self.linear_1 = nn.Linear(input_size, num_hidden)\n",
    "        ### Non-linearity in 1st hidden layer\n",
    "        self.relu_1 = nn.ReLU()\n",
    "\n",
    "        ### 2nd hidden layer: 200 --> 200\n",
    "        self.linear_2 = nn.Linear(num_hidden, 200)\n",
    "        ### Non-linearity in 2nd hidden layer\n",
    "        self.relu_2 = nn.ReLU6()\n",
    "\n",
    "        ### 3rd hidden layer: 200 --> 200\n",
    "        self.linear_3 = nn.Linear(200,100)\n",
    "        ## Non-linearity in 3rd hidden layer\n",
    "        self.relu_3 = nn.ReLU()\n",
    "\n",
    "        ### Output layer: 100 --> 10\n",
    "        self.linear_out = nn.Linear(100, num_classes)\n",
    "\n",
    "    def forward(self, x):\n",
    "        ### 1st hidden layer\n",
    "        out  = self.linear_1(x)\n",
    "        ### Non-linearity in 1st hidden layer\n",
    "        out = self.relu_1(out)\n",
    "        \n",
    "        ### 2nd hidden layer\n",
    "        out  = self.linear_2(out)\n",
    "        ### Non-linearity in 2nd hidden layer\n",
    "        out = self.relu_2(out)\n",
    "\n",
    "        ### 3rd hidden layer\n",
    "        out  = self.linear_3(out)\n",
    "        ## Non-linearity in 3rd hidden layer\n",
    "        out = self.relu_3(out)\n",
    "        \n",
    "        # Linear layer (output)\n",
    "        probas  = self.linear_out(out)\n",
    "        return probas"
   ]
  },
  {
   "cell_type": "code",
   "execution_count": 12,
   "metadata": {
    "execution": {
     "iopub.execute_input": "2021-08-29T05:55:08.023890Z",
     "iopub.status.busy": "2021-08-29T05:55:08.023562Z",
     "iopub.status.idle": "2021-08-29T05:55:12.546650Z",
     "shell.execute_reply": "2021-08-29T05:55:12.545854Z",
     "shell.execute_reply.started": "2021-08-29T05:55:08.023861Z"
    },
    "id": "3eP_1LEN3JJO",
    "outputId": "9007c2be-3271-4c60-eef9-b50e369a3d9d"
   },
   "outputs": [
    {
     "data": {
      "text/plain": [
       "DeepNeuralNetworkModel(\n",
       "  (linear_1): Linear(in_features=784, out_features=300, bias=True)\n",
       "  (relu_1): ReLU()\n",
       "  (linear_2): Linear(in_features=300, out_features=200, bias=True)\n",
       "  (relu_2): ReLU6()\n",
       "  (linear_3): Linear(in_features=200, out_features=100, bias=True)\n",
       "  (relu_3): ReLU()\n",
       "  (linear_out): Linear(in_features=100, out_features=10, bias=True)\n",
       ")"
      ]
     },
     "execution_count": 12,
     "metadata": {},
     "output_type": "execute_result"
    }
   ],
   "source": [
    "\n",
    "'''\n",
    "INSTANTIATE MODEL CLASS\n",
    "'''\n",
    "model = DeepNeuralNetworkModel(input_size=input_dim,\n",
    "                                num_classes=output_dim,\n",
    "                                num_hidden = num_hidden)\n",
    "\n",
    "#To enable GPU\n",
    "model.to(device)"
   ]
  },
  {
   "cell_type": "markdown",
   "metadata": {},
   "source": [
    "# Optimizer (SGD)"
   ]
  },
  {
   "cell_type": "code",
   "execution_count": 13,
   "metadata": {
    "execution": {
     "iopub.execute_input": "2021-08-29T05:55:15.135324Z",
     "iopub.status.busy": "2021-08-29T05:55:15.134990Z",
     "iopub.status.idle": "2021-08-29T05:55:15.141566Z",
     "shell.execute_reply": "2021-08-29T05:55:15.140698Z",
     "shell.execute_reply.started": "2021-08-29T05:55:15.135298Z"
    },
    "id": "YzipH5Re3JsL"
   },
   "outputs": [],
   "source": [
    "optimizer = torch.optim.SGD(model.parameters(), lr=learning_rate)\n",
    "criterion = nn.CrossEntropyLoss()"
   ]
  },
  {
   "cell_type": "code",
   "execution_count": 14,
   "metadata": {
    "execution": {
     "iopub.execute_input": "2021-08-29T05:55:18.479715Z",
     "iopub.status.busy": "2021-08-29T05:55:18.479369Z",
     "iopub.status.idle": "2021-08-29T06:17:27.508617Z",
     "shell.execute_reply": "2021-08-29T06:17:27.507642Z",
     "shell.execute_reply.started": "2021-08-29T05:55:18.479680Z"
    },
    "id": "T1bWKEQN3P09",
    "outputId": "ad0e6f20-0da4-4995-93d9-8b9f8a7c8e38"
   },
   "outputs": [
    {
     "name": "stdout",
     "output_type": "stream",
     "text": [
      "Iteration: 500. Loss: 0.5915557146072388. Accuracy: 79.15\n",
      "Iteration: 1000. Loss: 0.38243183493614197. Accuracy: 82.38\n",
      "Iteration: 1500. Loss: 0.3647206425666809. Accuracy: 83.95\n",
      "Iteration: 2000. Loss: 0.3141661584377289. Accuracy: 83.92\n",
      "Iteration: 2500. Loss: 0.27420318126678467. Accuracy: 83.71\n",
      "Iteration: 3000. Loss: 0.3518809378147125. Accuracy: 85.07\n",
      "Iteration: 3500. Loss: 0.40135374665260315. Accuracy: 85.46\n",
      "Iteration: 4000. Loss: 0.3848786950111389. Accuracy: 84.99\n",
      "Iteration: 4500. Loss: 0.290677547454834. Accuracy: 86.29\n",
      "Iteration: 5000. Loss: 0.3254828155040741. Accuracy: 85.51\n",
      "Iteration: 5500. Loss: 0.4232683479785919. Accuracy: 86.84\n",
      "Iteration: 6000. Loss: 0.31932753324508667. Accuracy: 87.02\n",
      "Iteration: 6500. Loss: 0.49847903847694397. Accuracy: 87.02\n",
      "Iteration: 7000. Loss: 0.34652429819107056. Accuracy: 87.69\n",
      "Iteration: 7500. Loss: 0.36463379859924316. Accuracy: 86.24\n",
      "Iteration: 8000. Loss: 0.16858094930648804. Accuracy: 87.56\n",
      "Iteration: 8500. Loss: 0.3804015815258026. Accuracy: 87.57\n",
      "Iteration: 9000. Loss: 0.3860556185245514. Accuracy: 87.5\n",
      "Iteration: 9500. Loss: 0.4251963496208191. Accuracy: 88.03\n",
      "Iteration: 10000. Loss: 0.2615719437599182. Accuracy: 88.18\n",
      "Iteration: 10500. Loss: 0.19040189683437347. Accuracy: 87.9\n",
      "Iteration: 11000. Loss: 0.07741843909025192. Accuracy: 88.34\n",
      "Iteration: 11500. Loss: 0.2612302899360657. Accuracy: 87.85\n",
      "Iteration: 12000. Loss: 0.15635021030902863. Accuracy: 88.14\n",
      "Iteration: 12500. Loss: 0.2187352031469345. Accuracy: 88.72\n",
      "Iteration: 13000. Loss: 0.41785064339637756. Accuracy: 87.5\n",
      "Iteration: 13500. Loss: 0.301891028881073. Accuracy: 87.94\n",
      "Iteration: 14000. Loss: 0.1782630980014801. Accuracy: 88.68\n",
      "Iteration: 14500. Loss: 0.11922147870063782. Accuracy: 88.16\n",
      "Iteration: 15000. Loss: 0.2649436593055725. Accuracy: 87.92\n",
      "Iteration: 15500. Loss: 0.3173306882381439. Accuracy: 87.12\n",
      "Iteration: 16000. Loss: 0.07751896977424622. Accuracy: 89.18\n",
      "Iteration: 16500. Loss: 0.17587827146053314. Accuracy: 88.34\n",
      "Iteration: 17000. Loss: 0.13647174835205078. Accuracy: 88.8\n",
      "Iteration: 17500. Loss: 0.11999046057462692. Accuracy: 88.91\n",
      "Iteration: 18000. Loss: 0.4751726984977722. Accuracy: 87.32\n",
      "Iteration: 18500. Loss: 0.07991371303796768. Accuracy: 89.19\n",
      "Iteration: 19000. Loss: 0.061929311603307724. Accuracy: 88.96\n",
      "Iteration: 19500. Loss: 0.2908547520637512. Accuracy: 87.72\n",
      "Iteration: 20000. Loss: 0.10883460938930511. Accuracy: 89.09\n",
      "Iteration: 20500. Loss: 0.23748725652694702. Accuracy: 88.65\n",
      "Iteration: 21000. Loss: 0.1877475529909134. Accuracy: 88.45\n",
      "Iteration: 21500. Loss: 0.10889428853988647. Accuracy: 89.54\n",
      "Iteration: 22000. Loss: 0.10149309039115906. Accuracy: 88.97\n",
      "Iteration: 22500. Loss: 0.13815103471279144. Accuracy: 88.53\n",
      "Iteration: 23000. Loss: 0.25090116262435913. Accuracy: 89.25\n",
      "Iteration: 23500. Loss: 0.1858188360929489. Accuracy: 89.13\n",
      "Iteration: 24000. Loss: 0.15545491874217987. Accuracy: 88.94\n",
      "Iteration: 24500. Loss: 0.12757357954978943. Accuracy: 88.97\n",
      "Iteration: 25000. Loss: 0.12814392149448395. Accuracy: 89.08\n",
      "Iteration: 25500. Loss: 0.1636585295200348. Accuracy: 89.28\n",
      "Iteration: 26000. Loss: 0.18356242775917053. Accuracy: 88.8\n",
      "Iteration: 26500. Loss: 0.20958209037780762. Accuracy: 89.06\n",
      "Iteration: 27000. Loss: 0.12885810434818268. Accuracy: 89.31\n",
      "Iteration: 27500. Loss: 0.12024258077144623. Accuracy: 89.52\n",
      "Iteration: 28000. Loss: 0.09476622939109802. Accuracy: 89.53\n",
      "Iteration: 28500. Loss: 0.16218389570713043. Accuracy: 89.01\n",
      "Iteration: 29000. Loss: 0.15969209372997284. Accuracy: 88.24\n",
      "Iteration: 29500. Loss: 0.1506623774766922. Accuracy: 89.32\n",
      "Iteration: 30000. Loss: 0.11383232474327087. Accuracy: 88.65\n",
      "Iteration: 30500. Loss: 0.059679191559553146. Accuracy: 89.73\n",
      "Iteration: 31000. Loss: 0.2248620092868805. Accuracy: 89.28\n",
      "Iteration: 31500. Loss: 0.08820147067308426. Accuracy: 89.14\n",
      "Iteration: 32000. Loss: 0.09711185842752457. Accuracy: 89.51\n",
      "Iteration: 32500. Loss: 0.12361063808202744. Accuracy: 89.0\n",
      "Iteration: 33000. Loss: 0.03190338611602783. Accuracy: 89.02\n",
      "Iteration: 33500. Loss: 0.05685704946517944. Accuracy: 89.53\n",
      "Iteration: 34000. Loss: 0.08197477459907532. Accuracy: 89.58\n",
      "Iteration: 34500. Loss: 0.25425729155540466. Accuracy: 87.98\n",
      "Iteration: 35000. Loss: 0.0713140070438385. Accuracy: 89.48\n",
      "Iteration: 35500. Loss: 0.17409729957580566. Accuracy: 88.43\n",
      "Iteration: 36000. Loss: 0.05010288581252098. Accuracy: 89.9\n",
      "Iteration: 36500. Loss: 0.07977112382650375. Accuracy: 88.92\n",
      "Iteration: 37000. Loss: 0.0924670472741127. Accuracy: 89.41\n",
      "Iteration: 37500. Loss: 0.09516999125480652. Accuracy: 88.98\n",
      "Iteration: 38000. Loss: 0.08374804258346558. Accuracy: 89.38\n",
      "Iteration: 38500. Loss: 0.08099359273910522. Accuracy: 89.66\n",
      "Iteration: 39000. Loss: 0.1569814682006836. Accuracy: 88.03\n",
      "Iteration: 39500. Loss: 0.06122239679098129. Accuracy: 89.26\n",
      "Iteration: 40000. Loss: 0.08359553664922714. Accuracy: 88.81\n",
      "Iteration: 40500. Loss: 0.051841121166944504. Accuracy: 89.56\n",
      "Iteration: 41000. Loss: 0.0953252986073494. Accuracy: 89.01\n",
      "Iteration: 41500. Loss: 0.1366325169801712. Accuracy: 88.96\n",
      "Iteration: 42000. Loss: 0.07939038425683975. Accuracy: 89.28\n",
      "Iteration: 42500. Loss: 0.04196847230195999. Accuracy: 89.37\n",
      "Iteration: 43000. Loss: 0.02361626923084259. Accuracy: 89.55\n",
      "Iteration: 43500. Loss: 0.06429396569728851. Accuracy: 89.09\n",
      "Iteration: 44000. Loss: 0.13665123283863068. Accuracy: 88.78\n",
      "Iteration: 44500. Loss: 0.04237089678645134. Accuracy: 89.49\n",
      "Iteration: 45000. Loss: 0.036249760538339615. Accuracy: 89.59\n",
      "Iteration: 45500. Loss: 0.024627860635519028. Accuracy: 89.15\n",
      "Iteration: 46000. Loss: 0.041902314871549606. Accuracy: 89.68\n",
      "Iteration: 46500. Loss: 0.02143397182226181. Accuracy: 89.49\n",
      "Iteration: 47000. Loss: 0.0764964148402214. Accuracy: 88.64\n",
      "Iteration: 47500. Loss: 0.1308506578207016. Accuracy: 88.91\n",
      "Iteration: 48000. Loss: 0.025148091837763786. Accuracy: 89.52\n",
      "Iteration: 48500. Loss: 0.030041800811886787. Accuracy: 89.33\n",
      "Iteration: 49000. Loss: 0.0325591079890728. Accuracy: 89.46\n",
      "Iteration: 49500. Loss: 0.039501361548900604. Accuracy: 89.6\n",
      "Iteration: 50000. Loss: 0.05661633983254433. Accuracy: 88.91\n",
      "Iteration: 50500. Loss: 0.02287464588880539. Accuracy: 89.44\n",
      "Iteration: 51000. Loss: 0.028604043647646904. Accuracy: 89.56\n",
      "Iteration: 51500. Loss: 0.027530550956726074. Accuracy: 89.44\n",
      "Iteration: 52000. Loss: 0.06744071841239929. Accuracy: 88.67\n",
      "Iteration: 52500. Loss: 0.038764990866184235. Accuracy: 89.63\n",
      "Iteration: 53000. Loss: 0.051162153482437134. Accuracy: 89.49\n",
      "Iteration: 53500. Loss: 0.03862963616847992. Accuracy: 89.38\n",
      "Iteration: 54000. Loss: 0.032859496772289276. Accuracy: 89.83\n",
      "Iteration: 54500. Loss: 0.049498073756694794. Accuracy: 89.41\n",
      "Iteration: 55000. Loss: 0.029912330210208893. Accuracy: 89.61\n",
      "Iteration: 55500. Loss: 0.02346336655318737. Accuracy: 89.62\n",
      "Iteration: 56000. Loss: 0.03939409926533699. Accuracy: 89.45\n",
      "Iteration: 56500. Loss: 0.25450724363327026. Accuracy: 88.96\n",
      "Iteration: 57000. Loss: 0.040207743644714355. Accuracy: 88.57\n",
      "Iteration: 57500. Loss: 0.0075315856374800205. Accuracy: 89.83\n",
      "Iteration: 58000. Loss: 0.0998915284872055. Accuracy: 89.29\n",
      "Iteration: 58500. Loss: 0.008343411609530449. Accuracy: 89.27\n",
      "Iteration: 59000. Loss: 0.054871995002031326. Accuracy: 89.18\n",
      "Iteration: 59500. Loss: 0.01409838441759348. Accuracy: 89.56\n",
      "Iteration: 60000. Loss: 0.10945690423250198. Accuracy: 88.64\n",
      "Iteration: 60500. Loss: 0.0711153894662857. Accuracy: 89.41\n",
      "Iteration: 61000. Loss: 0.07059977203607559. Accuracy: 89.29\n",
      "Iteration: 61500. Loss: 0.013319911435246468. Accuracy: 89.86\n",
      "Iteration: 62000. Loss: 0.020418327301740646. Accuracy: 89.39\n",
      "Iteration: 62500. Loss: 0.006964721251279116. Accuracy: 89.98\n",
      "Iteration: 63000. Loss: 0.006937387399375439. Accuracy: 89.21\n",
      "Iteration: 63500. Loss: 0.02002965286374092. Accuracy: 88.98\n",
      "Iteration: 64000. Loss: 0.0689614787697792. Accuracy: 89.66\n",
      "Iteration: 64500. Loss: 0.02357921376824379. Accuracy: 89.71\n",
      "Iteration: 65000. Loss: 0.014826358295977116. Accuracy: 89.9\n",
      "Iteration: 65500. Loss: 0.028810597956180573. Accuracy: 89.74\n",
      "Iteration: 66000. Loss: 0.07692273706197739. Accuracy: 89.29\n",
      "Iteration: 66500. Loss: 0.032390087842941284. Accuracy: 89.01\n",
      "Iteration: 67000. Loss: 0.011758415028452873. Accuracy: 89.67\n",
      "Iteration: 67500. Loss: 0.04280484840273857. Accuracy: 89.6\n",
      "Iteration: 68000. Loss: 0.028044503182172775. Accuracy: 89.39\n",
      "Iteration: 68500. Loss: 0.002173309214413166. Accuracy: 89.78\n",
      "Iteration: 69000. Loss: 0.02087622880935669. Accuracy: 89.18\n",
      "Iteration: 69500. Loss: 0.0057058329693973064. Accuracy: 89.51\n",
      "Iteration: 70000. Loss: 0.037168774753808975. Accuracy: 89.17\n",
      "Iteration: 70500. Loss: 0.04267159849405289. Accuracy: 88.2\n",
      "Iteration: 71000. Loss: 0.037792231887578964. Accuracy: 89.72\n",
      "Iteration: 71500. Loss: 0.006784799974411726. Accuracy: 89.81\n",
      "Iteration: 72000. Loss: 0.012025364674627781. Accuracy: 89.65\n",
      "Iteration: 72500. Loss: 0.0007755359401926398. Accuracy: 89.75\n",
      "Iteration: 73000. Loss: 0.010108123533427715. Accuracy: 89.33\n",
      "Iteration: 73500. Loss: 0.0005158092826604843. Accuracy: 90.01\n",
      "Iteration: 74000. Loss: 0.05519985780119896. Accuracy: 89.5\n",
      "Iteration: 74500. Loss: 0.0013877361780032516. Accuracy: 89.72\n",
      "Iteration: 75000. Loss: 0.05862170457839966. Accuracy: 88.92\n",
      "Iteration: 75500. Loss: 0.03910660371184349. Accuracy: 88.51\n",
      "Iteration: 76000. Loss: 0.004427177365869284. Accuracy: 89.43\n",
      "Iteration: 76500. Loss: 0.003357762238010764. Accuracy: 89.41\n",
      "Iteration: 77000. Loss: 0.06919057667255402. Accuracy: 89.17\n",
      "Iteration: 77500. Loss: 0.01943504624068737. Accuracy: 89.39\n",
      "Iteration: 78000. Loss: 0.013459458015859127. Accuracy: 89.68\n",
      "Iteration: 78500. Loss: 0.030653588473796844. Accuracy: 89.57\n",
      "Iteration: 79000. Loss: 0.03508645296096802. Accuracy: 89.14\n",
      "Iteration: 79500. Loss: 0.012479706667363644. Accuracy: 89.33\n",
      "Iteration: 79730. Loss: 0.0650750920176506. Accuracy: 89.33\n"
     ]
    }
   ],
   "source": [
    "\n",
    "iteration_loss = []\n",
    "iter = 0\n",
    "for epoch in range(num_epochs):\n",
    "    for i, (images, labels) in enumerate(train_loader):\n",
    "\n",
    "        images = images.view(-1, 28*28).to(device)\n",
    "        labels = labels.to(device)\n",
    "\n",
    "        # Clear gradients w.r.t. parameters\n",
    "        optimizer.zero_grad()\n",
    "\n",
    "        # Forward pass to get output/logits\n",
    "        outputs = model(images) \n",
    "\n",
    "        # Calculate Loss: softmax --> cross entropy loss\n",
    "        loss = criterion(outputs, labels.long())\n",
    "\n",
    "        # Getting gradients w.r.t. parameters\n",
    "        loss.backward()\n",
    "\n",
    "        # Updating parameters\n",
    "        optimizer.step()\n",
    "\n",
    "        iter += 1\n",
    "\n",
    "        if iter % 500 == 0:\n",
    "            # Calculate Accuracy         \n",
    "            correct = 0\n",
    "            total = 0\n",
    "            # Iterate through test dataset\n",
    "            for images, labels in test_loader:\n",
    "               \n",
    "                images = images.view(-1, 28*28).to(device)\n",
    "\n",
    "                # Forward pass only to get logits/output\n",
    "                outputs = model(images)\n",
    "\n",
    "                # Get predictions from the maximum value\n",
    "                _, predicted = torch.max(outputs, 1)\n",
    "\n",
    "                # Total number of labels\n",
    "                total += labels.size(0)\n",
    "\n",
    "\n",
    "                # Total correct predictions\n",
    "                if torch.cuda.is_available():\n",
    "                    correct += (predicted.cpu() == labels.cpu()).sum() \n",
    "                else:\n",
    "                    correct += (predicted == labels).sum()\n",
    "\n",
    "            accuracy = 100 * correct.item() / total\n",
    "\n",
    "            # Print Loss\n",
    "            iteration_loss.append(loss.item())\n",
    "            print('Iteration: {}. Loss: {}. Accuracy: {}'.format(iter, loss.item(), accuracy))\n",
    "print('Iteration: {}. Loss: {}. Accuracy: {}'.format(iter, loss.item(), accuracy))"
   ]
  },
  {
   "cell_type": "markdown",
   "metadata": {},
   "source": [
    "# Plotting Loss Graph According to Iterations"
   ]
  },
  {
   "cell_type": "code",
   "execution_count": 15,
   "metadata": {
    "execution": {
     "iopub.execute_input": "2021-08-29T06:21:58.960134Z",
     "iopub.status.busy": "2021-08-29T06:21:58.959777Z",
     "iopub.status.idle": "2021-08-29T06:21:59.685285Z",
     "shell.execute_reply": "2021-08-29T06:21:59.684446Z",
     "shell.execute_reply.started": "2021-08-29T06:21:58.960104Z"
    },
    "id": "H_tu7OIw3TYg",
    "outputId": "b9023961-ca31-40ee-d3e0-b03d51d7e400"
   },
   "outputs": [
    {
     "name": "stdout",
     "output_type": "stream",
     "text": [
      "[0.5915557146072388, 0.38243183493614197, 0.3647206425666809, 0.3141661584377289, 0.27420318126678467, 0.3518809378147125, 0.40135374665260315, 0.3848786950111389, 0.290677547454834, 0.3254828155040741, 0.4232683479785919, 0.31932753324508667, 0.49847903847694397, 0.34652429819107056, 0.36463379859924316, 0.16858094930648804, 0.3804015815258026, 0.3860556185245514, 0.4251963496208191, 0.2615719437599182, 0.19040189683437347, 0.07741843909025192, 0.2612302899360657, 0.15635021030902863, 0.2187352031469345, 0.41785064339637756, 0.301891028881073, 0.1782630980014801, 0.11922147870063782, 0.2649436593055725, 0.3173306882381439, 0.07751896977424622, 0.17587827146053314, 0.13647174835205078, 0.11999046057462692, 0.4751726984977722, 0.07991371303796768, 0.061929311603307724, 0.2908547520637512, 0.10883460938930511, 0.23748725652694702, 0.1877475529909134, 0.10889428853988647, 0.10149309039115906, 0.13815103471279144, 0.25090116262435913, 0.1858188360929489, 0.15545491874217987, 0.12757357954978943, 0.12814392149448395, 0.1636585295200348, 0.18356242775917053, 0.20958209037780762, 0.12885810434818268, 0.12024258077144623, 0.09476622939109802, 0.16218389570713043, 0.15969209372997284, 0.1506623774766922, 0.11383232474327087, 0.059679191559553146, 0.2248620092868805, 0.08820147067308426, 0.09711185842752457, 0.12361063808202744, 0.03190338611602783, 0.05685704946517944, 0.08197477459907532, 0.25425729155540466, 0.0713140070438385, 0.17409729957580566, 0.05010288581252098, 0.07977112382650375, 0.0924670472741127, 0.09516999125480652, 0.08374804258346558, 0.08099359273910522, 0.1569814682006836, 0.06122239679098129, 0.08359553664922714, 0.051841121166944504, 0.0953252986073494, 0.1366325169801712, 0.07939038425683975, 0.04196847230195999, 0.02361626923084259, 0.06429396569728851, 0.13665123283863068, 0.04237089678645134, 0.036249760538339615, 0.024627860635519028, 0.041902314871549606, 0.02143397182226181, 0.0764964148402214, 0.1308506578207016, 0.025148091837763786, 0.030041800811886787, 0.0325591079890728, 0.039501361548900604, 0.05661633983254433, 0.02287464588880539, 0.028604043647646904, 0.027530550956726074, 0.06744071841239929, 0.038764990866184235, 0.051162153482437134, 0.03862963616847992, 0.032859496772289276, 0.049498073756694794, 0.029912330210208893, 0.02346336655318737, 0.03939409926533699, 0.25450724363327026, 0.040207743644714355, 0.0075315856374800205, 0.0998915284872055, 0.008343411609530449, 0.054871995002031326, 0.01409838441759348, 0.10945690423250198, 0.0711153894662857, 0.07059977203607559, 0.013319911435246468, 0.020418327301740646, 0.006964721251279116, 0.006937387399375439, 0.02002965286374092, 0.0689614787697792, 0.02357921376824379, 0.014826358295977116, 0.028810597956180573, 0.07692273706197739, 0.032390087842941284, 0.011758415028452873, 0.04280484840273857, 0.028044503182172775, 0.002173309214413166, 0.02087622880935669, 0.0057058329693973064, 0.037168774753808975, 0.04267159849405289, 0.037792231887578964, 0.006784799974411726, 0.012025364674627781, 0.0007755359401926398, 0.010108123533427715, 0.0005158092826604843, 0.05519985780119896, 0.0013877361780032516, 0.05862170457839966, 0.03910660371184349, 0.004427177365869284, 0.003357762238010764, 0.06919057667255402, 0.01943504624068737, 0.013459458015859127, 0.030653588473796844, 0.03508645296096802, 0.012479706667363644]\n"
     ]
    },
    {
     "data": {
      "image/png": "[encoded data removed]",
      "text/plain": [
       "<Figure size 432x288 with 1 Axes>"
      ]
     },
     "metadata": {
      "needs_background": "light"
     },
     "output_type": "display_data"
    }
   ],
   "source": [
    "print (iteration_loss)\n",
    "plt.plot(iteration_loss)\n",
    "plt.ylabel('Cross Entropy Loss')\n",
    "plt.xlabel('Iteration (in every 500)')\n",
    "plt.savefig('Task_3_Exp_2.png', dpi=600, bbox_inches='tight')\n",
    "plt.show()"
   ]
  },
  {
   "cell_type": "markdown",
   "metadata": {},
   "source": [
    "# Saving the Model"
   ]
  },
  {
   "cell_type": "code",
   "execution_count": 17,
   "metadata": {
    "execution": {
     "iopub.execute_input": "2021-08-29T06:22:06.562626Z",
     "iopub.status.busy": "2021-08-29T06:22:06.562293Z",
     "iopub.status.idle": "2021-08-29T06:22:06.572255Z",
     "shell.execute_reply": "2021-08-29T06:22:06.571300Z",
     "shell.execute_reply.started": "2021-08-29T06:22:06.562590Z"
    },
    "id": "-6aP_6BvbPes"
   },
   "outputs": [],
   "source": [
    "root_path = './Saved Models'\n",
    "save_model = True\n",
    "\n",
    "if save_model is True:\n",
    "    # Saves only parameters\n",
    "    # weights & biases\n",
    "    torch.save(model.state_dict(), root_path + 'Task_3_Exp_2.pkl') "
   ]
  },
  {
   "cell_type": "code",
   "execution_count": 18,
   "metadata": {
    "execution": {
     "iopub.execute_input": "2021-08-29T06:22:09.405252Z",
     "iopub.status.busy": "2021-08-29T06:22:09.404931Z",
     "iopub.status.idle": "2021-08-29T06:22:09.411686Z",
     "shell.execute_reply": "2021-08-29T06:22:09.410746Z",
     "shell.execute_reply.started": "2021-08-29T06:22:09.405223Z"
    }
   },
   "outputs": [
    {
     "name": "stdout",
     "output_type": "stream",
     "text": [
      "Iteration: 79730. Loss: 0.0650750920176506. Accuracy: 89.33\n"
     ]
    }
   ],
   "source": [
    "print('Iteration: {}. Loss: {}. Accuracy: {}'.format(iter, loss.item(), accuracy))"
   ]
  }
 ],
 "metadata": {
  "kernelspec": {
   "display_name": "Python 3",
   "language": "python",
   "name": "python3"
  },
  "language_info": {
   "codemirror_mode": {
    "name": "ipython",
    "version": 3
   },
   "file_extension": ".py",
   "mimetype": "text/x-python",
   "name": "python",
   "nbconvert_exporter": "python",
   "pygments_lexer": "ipython3",
   "version": "3.8.8"
  }
 },
 "nbformat": 4,
 "nbformat_minor": 4
}
