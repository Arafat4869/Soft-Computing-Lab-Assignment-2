{
 "cells": [
  {
   "cell_type": "markdown",
   "metadata": {},
   "source": [
    "# Mounting Google Drive"
   ]
  },
  {
   "cell_type": "code",
   "execution_count": null,
   "metadata": {
    "id": "4Ul0tu8z8v9z",
    "outputId": "6367599d-7522-4984-ec7b-6b319637f7e2"
   },
   "outputs": [],
   "source": [
    "from google.colab import drive\n",
    "drive.mount('/content/gdrive')"
   ]
  },
  {
   "cell_type": "markdown",
   "metadata": {},
   "source": [
    "# Importing Libraries"
   ]
  },
  {
   "cell_type": "code",
   "execution_count": 1,
   "metadata": {
    "execution": {
     "iopub.execute_input": "2021-08-28T15:20:52.827057Z",
     "iopub.status.busy": "2021-08-28T15:20:52.826621Z",
     "iopub.status.idle": "2021-08-28T15:20:54.227594Z",
     "shell.execute_reply": "2021-08-28T15:20:54.226760Z",
     "shell.execute_reply.started": "2021-08-28T15:20:52.826971Z"
    },
    "id": "sMzXpTSF832l"
   },
   "outputs": [],
   "source": [
    "import os\n",
    "from os import path\n",
    "import numpy as np\n",
    "import pandas as pd\n",
    "import matplotlib\n",
    "import matplotlib.pyplot as plt\n",
    "import torch\n",
    "import torch.nn as nn\n",
    "import torch.nn.functional as F\n",
    "import torch.optim as optim\n",
    "from torch.utils.data import Dataset\n",
    "from torch.utils.data.sampler import SubsetRandomSampler\n",
    "from torchvision import datasets, transforms, models\n",
    "from PIL import Image"
   ]
  },
  {
   "cell_type": "markdown",
   "metadata": {},
   "source": [
    "## Unzipping the zip file"
   ]
  },
  {
   "cell_type": "code",
   "execution_count": null,
   "metadata": {
    "id": "_1LIhQf_83-j",
    "outputId": "4a7f94c0-30bc-4a1b-861a-5f6e08c7b055"
   },
   "outputs": [],
   "source": [
    "!unzip '/content/gdrive/MyDrive/4.2/CSE 4238/Dataset C.zip'"
   ]
  },
  {
   "cell_type": "markdown",
   "metadata": {},
   "source": [
    "# Reading Data From the csv File"
   ]
  },
  {
   "cell_type": "code",
   "execution_count": 2,
   "metadata": {
    "execution": {
     "iopub.execute_input": "2021-08-28T15:20:57.858187Z",
     "iopub.status.busy": "2021-08-28T15:20:57.857870Z",
     "iopub.status.idle": "2021-08-28T15:20:58.000933Z",
     "shell.execute_reply": "2021-08-28T15:20:57.999591Z",
     "shell.execute_reply.started": "2021-08-28T15:20:57.858159Z"
    },
    "id": "q29ieCwf84HL",
    "outputId": "ddd00874-6e05-4f5e-f4a4-04ec254257e9"
   },
   "outputs": [
    {
     "name": "stdout",
     "output_type": "stream",
     "text": [
      "         filename  digit\n",
      "0      c00000.png      6\n",
      "1      c00001.png      1\n",
      "2      c00002.png      3\n",
      "3      c00003.png      2\n",
      "4      c00004.png      7\n",
      "...           ...    ...\n",
      "24293  c24293.png      3\n",
      "24294  c24294.png      2\n",
      "24295  c24295.png      7\n",
      "24296  c24296.png      2\n",
      "24297  c24297.png      7\n",
      "\n",
      "[24298 rows x 2 columns]\n"
     ]
    }
   ],
   "source": [
    "cols_csv = pd.read_csv('../input/cse-4238/Dataset C/training-c.csv')\n",
    "# print(cols_csv.columns)\n",
    "\n",
    "cols_csv.drop(cols_csv.columns[[1,2,4,5,6]], axis = 1, inplace = True)\n",
    "print(cols_csv) \n",
    "\n",
    "cols_csv.to_csv('Datas.csv',index=False)"
   ]
  },
  {
   "cell_type": "code",
   "execution_count": 3,
   "metadata": {
    "execution": {
     "iopub.execute_input": "2021-08-28T15:21:02.005329Z",
     "iopub.status.busy": "2021-08-28T15:21:02.005001Z",
     "iopub.status.idle": "2021-08-28T15:21:02.032832Z",
     "shell.execute_reply": "2021-08-28T15:21:02.031886Z",
     "shell.execute_reply.started": "2021-08-28T15:21:02.005299Z"
    },
    "id": "ndnL6diRVUdx",
    "outputId": "05396757-cfc4-4fa3-bff1-47092723710e"
   },
   "outputs": [
    {
     "data": {
      "text/html": [
       "<div>\n",
       "<style scoped>\n",
       "    .dataframe tbody tr th:only-of-type {\n",
       "        vertical-align: middle;\n",
       "    }\n",
       "\n",
       "    .dataframe tbody tr th {\n",
       "        vertical-align: top;\n",
       "    }\n",
       "\n",
       "    .dataframe thead th {\n",
       "        text-align: right;\n",
       "    }\n",
       "</style>\n",
       "<table border=\"1\" class=\"dataframe\">\n",
       "  <thead>\n",
       "    <tr style=\"text-align: right;\">\n",
       "      <th></th>\n",
       "      <th>filename</th>\n",
       "      <th>digit</th>\n",
       "    </tr>\n",
       "  </thead>\n",
       "  <tbody>\n",
       "    <tr>\n",
       "      <th>0</th>\n",
       "      <td>c00000.png</td>\n",
       "      <td>6</td>\n",
       "    </tr>\n",
       "    <tr>\n",
       "      <th>1</th>\n",
       "      <td>c00001.png</td>\n",
       "      <td>1</td>\n",
       "    </tr>\n",
       "    <tr>\n",
       "      <th>2</th>\n",
       "      <td>c00002.png</td>\n",
       "      <td>3</td>\n",
       "    </tr>\n",
       "    <tr>\n",
       "      <th>3</th>\n",
       "      <td>c00003.png</td>\n",
       "      <td>2</td>\n",
       "    </tr>\n",
       "    <tr>\n",
       "      <th>4</th>\n",
       "      <td>c00004.png</td>\n",
       "      <td>7</td>\n",
       "    </tr>\n",
       "    <tr>\n",
       "      <th>5</th>\n",
       "      <td>c00005.png</td>\n",
       "      <td>3</td>\n",
       "    </tr>\n",
       "    <tr>\n",
       "      <th>6</th>\n",
       "      <td>c00006.png</td>\n",
       "      <td>4</td>\n",
       "    </tr>\n",
       "    <tr>\n",
       "      <th>7</th>\n",
       "      <td>c00007.png</td>\n",
       "      <td>7</td>\n",
       "    </tr>\n",
       "    <tr>\n",
       "      <th>8</th>\n",
       "      <td>c00008.png</td>\n",
       "      <td>5</td>\n",
       "    </tr>\n",
       "    <tr>\n",
       "      <th>9</th>\n",
       "      <td>c00009.png</td>\n",
       "      <td>3</td>\n",
       "    </tr>\n",
       "  </tbody>\n",
       "</table>\n",
       "</div>"
      ],
      "text/plain": [
       "     filename  digit\n",
       "0  c00000.png      6\n",
       "1  c00001.png      1\n",
       "2  c00002.png      3\n",
       "3  c00003.png      2\n",
       "4  c00004.png      7\n",
       "5  c00005.png      3\n",
       "6  c00006.png      4\n",
       "7  c00007.png      7\n",
       "8  c00008.png      5\n",
       "9  c00009.png      3"
      ]
     },
     "execution_count": 3,
     "metadata": {},
     "output_type": "execute_result"
    }
   ],
   "source": [
    "datas = pd.read_csv('Datas.csv')\n",
    "datas.head(10) #First 5 Rows of the CSV File"
   ]
  },
  {
   "cell_type": "markdown",
   "metadata": {},
   "source": [
    "# Converting Images and Transforming them to Train and Test"
   ]
  },
  {
   "cell_type": "code",
   "execution_count": 4,
   "metadata": {
    "execution": {
     "iopub.execute_input": "2021-08-28T15:21:04.247723Z",
     "iopub.status.busy": "2021-08-28T15:21:04.247298Z",
     "iopub.status.idle": "2021-08-28T15:21:04.256243Z",
     "shell.execute_reply": "2021-08-28T15:21:04.255299Z",
     "shell.execute_reply.started": "2021-08-28T15:21:04.247684Z"
    },
    "id": "E3Sll-Sdcdqy"
   },
   "outputs": [],
   "source": [
    "class Dataset(Dataset):\n",
    "    def __init__(self, df, root, transform=None):\n",
    "        self.data = df\n",
    "        self.root = root\n",
    "        self.transform = transform\n",
    "        \n",
    "    def __len__(self):\n",
    "        return len(self.data)\n",
    "    \n",
    "    def __getitem__(self, index):\n",
    "        item = self.data.iloc[index]\n",
    "        \n",
    "        path = self.root + \"/\" + item[0]\n",
    "        image = Image.open(path).convert('L')\n",
    "        label = item[1]\n",
    "        \n",
    "        if self.transform is not None:\n",
    "            image = self.transform(image)\n",
    "            \n",
    "        return image, label"
   ]
  },
  {
   "cell_type": "code",
   "execution_count": 21,
   "metadata": {
    "execution": {
     "iopub.execute_input": "2021-08-28T15:26:05.905948Z",
     "iopub.status.busy": "2021-08-28T15:26:05.905603Z",
     "iopub.status.idle": "2021-08-28T15:26:05.913062Z",
     "shell.execute_reply": "2021-08-28T15:26:05.912201Z",
     "shell.execute_reply.started": "2021-08-28T15:26:05.905918Z"
    },
    "id": "k44dXEqsgstR",
    "outputId": "0e61a8e6-88b9-49b7-d963-b837d66d1642"
   },
   "outputs": [
    {
     "name": "stdout",
     "output_type": "stream",
     "text": [
      "Trainig Samples:  24298\n",
      "Trainig Samples:  24298\n"
     ]
    }
   ],
   "source": [
    "mean = [0.5,]\n",
    "std = [0.5,]\n",
    "\n",
    "train_transform = transforms.Compose([\n",
    "    transforms.Resize(28),\n",
    "    transforms.ToTensor(),\n",
    "    transforms.Normalize(mean, std)\n",
    "])\n",
    "\n",
    "test_transform = transforms.Compose([\n",
    "        transforms.Resize(28),\n",
    "        transforms.ToTensor(),\n",
    "        transforms.Normalize(mean, std)\n",
    "])\n",
    "\n",
    "TRAIN_PATH = '../input/cse-4238/Dataset C/training-c'\n",
    "train_data = Dataset(datas, TRAIN_PATH, train_transform)\n",
    "test_data = Dataset(datas, TRAIN_PATH, test_transform)\n",
    "\n",
    "print(\"Trainig Samples: \",len(train_data))\n",
    "print(\"Test Samples: \",len(test_data))"
   ]
  },
  {
   "cell_type": "markdown",
   "metadata": {
    "id": "mKB94bXzzF0e"
   },
   "source": [
    "# Hyperparameter Setting 6 Exp.2\n",
    "*   No of hidden layers = 3\n",
    "*   Hidden Nodes = 784-300-200-100-10\n",
    "*   Iteration = 80000\n",
    "*   Learning rate = 0.05\n",
    "*   Batch Size = 64\n",
    "*   Activation Function : ReLU,ReLU6\n",
    "*   Optimizer : SGD\n",
    "*   Accuracy : 85.16%"
   ]
  },
  {
   "cell_type": "code",
   "execution_count": 52,
   "metadata": {
    "execution": {
     "iopub.execute_input": "2021-08-28T17:58:06.017453Z",
     "iopub.status.busy": "2021-08-28T17:58:06.017116Z",
     "iopub.status.idle": "2021-08-28T17:58:06.032985Z",
     "shell.execute_reply": "2021-08-28T17:58:06.029534Z",
     "shell.execute_reply.started": "2021-08-28T17:58:06.017422Z"
    },
    "id": "Jb_0E8-2meEu",
    "outputId": "26804ace-9653-481d-b7f7-e33f8e98ced2"
   },
   "outputs": [
    {
     "name": "stdout",
     "output_type": "stream",
     "text": [
      "19439\n",
      "Train dataloader:304\n",
      "Test dataloader:76\n"
     ]
    }
   ],
   "source": [
    "batch_size = 64\n",
    "num_iters = 80000\n",
    "input_dim = 28*28\n",
    "output_dim = 10\n",
    "learning_rate = 0.05\n",
    "num_hidden = 300  #number of hidden nodes\n",
    "# Device\n",
    "device = torch.device(\"cuda:0\" if torch.cuda.is_available() else \"cpu\")\n",
    "\n",
    "# split data 20% for testing\n",
    "test_size = 0.2\n",
    "\n",
    "# obtain training indices that will be used for validation\n",
    "num_train = len(train_data)\n",
    "\n",
    "# mix data\n",
    "# index of num of train\n",
    "indices = list(range(num_train))\n",
    "# random the index\n",
    "np.random.shuffle(indices)\n",
    "split = int(np.floor(test_size * num_train))\n",
    "# divied into two part\n",
    "train_idx, test_idx = indices[split:], indices[:split]\n",
    "\n",
    "print(len(train_idx))\n",
    "\n",
    "# define the sampler\n",
    "train_sampler = SubsetRandomSampler(train_idx)\n",
    "test_sampler = SubsetRandomSampler(test_idx)\n",
    "\n",
    "# prepare loaders\n",
    "train_loader = torch.utils.data.DataLoader(\n",
    "    train_data, batch_size=batch_size,\n",
    "    sampler=train_sampler)\n",
    "\n",
    "test_loader = torch.utils.data.DataLoader(\n",
    "    test_data, batch_size=batch_size,\n",
    "    sampler=test_sampler)\n",
    "\n",
    "print(\"Train dataloader:{}\".format(len(train_loader)))\n",
    "print(\"Test dataloader:{}\".format(len(test_loader)))"
   ]
  },
  {
   "cell_type": "code",
   "execution_count": 53,
   "metadata": {
    "execution": {
     "iopub.execute_input": "2021-08-28T17:58:08.825144Z",
     "iopub.status.busy": "2021-08-28T17:58:08.824827Z",
     "iopub.status.idle": "2021-08-28T17:58:08.830930Z",
     "shell.execute_reply": "2021-08-28T17:58:08.829763Z",
     "shell.execute_reply.started": "2021-08-28T17:58:08.825117Z"
    },
    "id": "bEvDzfF11Cld",
    "outputId": "40f30006-856b-405f-b464-457a7d8eb761"
   },
   "outputs": [
    {
     "name": "stdout",
     "output_type": "stream",
     "text": [
      "263\n"
     ]
    }
   ],
   "source": [
    "num_epochs = num_iters / (len(train_idx) / batch_size)\n",
    "num_epochs = int(num_epochs)\n",
    "print(num_epochs)"
   ]
  },
  {
   "cell_type": "markdown",
   "metadata": {},
   "source": [
    "# Creating Neural Network Model"
   ]
  },
  {
   "cell_type": "code",
   "execution_count": 54,
   "metadata": {
    "execution": {
     "iopub.execute_input": "2021-08-28T17:58:10.683959Z",
     "iopub.status.busy": "2021-08-28T17:58:10.683635Z",
     "iopub.status.idle": "2021-08-28T17:58:10.691075Z",
     "shell.execute_reply": "2021-08-28T17:58:10.690258Z",
     "shell.execute_reply.started": "2021-08-28T17:58:10.683929Z"
    },
    "id": "_N1pMR-l234V"
   },
   "outputs": [],
   "source": [
    "\n",
    "class DeepNeuralNetworkModel(nn.Module):\n",
    "    def __init__(self, input_size, num_classes, num_hidden):\n",
    "        super().__init__()\n",
    "        ### 1st hidden layer: 784 --> 300\n",
    "        self.linear_1 = nn.Linear(input_size, num_hidden)\n",
    "        ### Non-linearity in 1st hidden layer\n",
    "        self.relu_1 = nn.ReLU()\n",
    "\n",
    "        ### 2nd hidden layer: 300 --> 200\n",
    "        self.linear_2 = nn.Linear(num_hidden, 200)\n",
    "        ### Non-linearity in 2nd hidden layer\n",
    "        self.relu_2 = nn.ReLU6()\n",
    "\n",
    "        ### 3rd hidden layer: 200 --> 100\n",
    "        self.linear_3 = nn.Linear(200,100)\n",
    "        ## Non-linearity in 3rd hidden layer\n",
    "        self.relu_3 = nn.ReLU()\n",
    "\n",
    "        ### Output layer: 100 --> 10\n",
    "        self.linear_out = nn.Linear(100, num_classes)\n",
    "\n",
    "    def forward(self, x):\n",
    "        ### 1st hidden layer\n",
    "        out  = self.linear_1(x)\n",
    "        ### Non-linearity in 1st hidden layer\n",
    "        out = self.relu_1(out)\n",
    "        \n",
    "        ### 2nd hidden layer\n",
    "        out  = self.linear_2(out)\n",
    "        ### Non-linearity in 2nd hidden layer\n",
    "        out = self.relu_2(out)\n",
    "\n",
    "        ### 3rd hidden layer\n",
    "        out  = self.linear_3(out)\n",
    "        ## Non-linearity in 3rd hidden layer\n",
    "        out = self.relu_3(out)\n",
    "        \n",
    "        # Linear layer (output)\n",
    "        probas  = self.linear_out(out)\n",
    "        return probas"
   ]
  },
  {
   "cell_type": "code",
   "execution_count": 55,
   "metadata": {
    "execution": {
     "iopub.execute_input": "2021-08-28T17:58:12.882331Z",
     "iopub.status.busy": "2021-08-28T17:58:12.881994Z",
     "iopub.status.idle": "2021-08-28T17:58:12.894245Z",
     "shell.execute_reply": "2021-08-28T17:58:12.893238Z",
     "shell.execute_reply.started": "2021-08-28T17:58:12.882301Z"
    },
    "id": "3eP_1LEN3JJO",
    "outputId": "9007c2be-3271-4c60-eef9-b50e369a3d9d"
   },
   "outputs": [
    {
     "data": {
      "text/plain": [
       "DeepNeuralNetworkModel(\n",
       "  (linear_1): Linear(in_features=784, out_features=300, bias=True)\n",
       "  (relu_1): ReLU()\n",
       "  (linear_2): Linear(in_features=300, out_features=200, bias=True)\n",
       "  (relu_2): ReLU6()\n",
       "  (linear_3): Linear(in_features=200, out_features=100, bias=True)\n",
       "  (relu_3): ReLU()\n",
       "  (linear_out): Linear(in_features=100, out_features=10, bias=True)\n",
       ")"
      ]
     },
     "execution_count": 55,
     "metadata": {},
     "output_type": "execute_result"
    }
   ],
   "source": [
    "\n",
    "'''\n",
    "INSTANTIATE MODEL CLASS\n",
    "'''\n",
    "model = DeepNeuralNetworkModel(input_size=input_dim,\n",
    "                                num_classes=output_dim,\n",
    "                                num_hidden = num_hidden)\n",
    "\n",
    "#To enable GPU\n",
    "model.to(device)"
   ]
  },
  {
   "cell_type": "markdown",
   "metadata": {},
   "source": [
    "# Optimizer (SGD)"
   ]
  },
  {
   "cell_type": "code",
   "execution_count": 56,
   "metadata": {
    "execution": {
     "iopub.execute_input": "2021-08-28T17:58:14.558651Z",
     "iopub.status.busy": "2021-08-28T17:58:14.558311Z",
     "iopub.status.idle": "2021-08-28T17:58:14.564788Z",
     "shell.execute_reply": "2021-08-28T17:58:14.563896Z",
     "shell.execute_reply.started": "2021-08-28T17:58:14.558620Z"
    },
    "id": "YzipH5Re3JsL"
   },
   "outputs": [],
   "source": [
    "optimizer = torch.optim.SGD(model.parameters(), lr=learning_rate)\n",
    "criterion = nn.CrossEntropyLoss()"
   ]
  },
  {
   "cell_type": "code",
   "execution_count": 57,
   "metadata": {
    "execution": {
     "iopub.execute_input": "2021-08-28T17:58:15.934355Z",
     "iopub.status.busy": "2021-08-28T17:58:15.933997Z",
     "iopub.status.idle": "2021-08-28T20:34:51.213595Z",
     "shell.execute_reply": "2021-08-28T20:34:51.212779Z",
     "shell.execute_reply.started": "2021-08-28T17:58:15.934322Z"
    },
    "id": "T1bWKEQN3P09",
    "outputId": "ad0e6f20-0da4-4995-93d9-8b9f8a7c8e38"
   },
   "outputs": [
    {
     "name": "stdout",
     "output_type": "stream",
     "text": [
      "Iteration: 500. Loss: 2.2898166179656982. Accuracy: 10.701790491870755\n",
      "Iteration: 1000. Loss: 2.252586841583252. Accuracy: 18.481168964807573\n",
      "Iteration: 1500. Loss: 2.249518871307373. Accuracy: 12.451121629965014\n",
      "Iteration: 2000. Loss: 2.064077377319336. Accuracy: 19.07799958839267\n",
      "Iteration: 2500. Loss: 2.0064055919647217. Accuracy: 23.54393908211566\n",
      "Iteration: 3000. Loss: 2.015638828277588. Accuracy: 30.500102901831653\n",
      "Iteration: 3500. Loss: 1.897990107536316. Accuracy: 28.174521506482815\n",
      "Iteration: 4000. Loss: 2.282538890838623. Accuracy: 27.45420868491459\n",
      "Iteration: 4500. Loss: 1.8738566637039185. Accuracy: 31.69376414900185\n",
      "Iteration: 5000. Loss: 1.7176018953323364. Accuracy: 32.043630376620705\n",
      "Iteration: 5500. Loss: 1.8153530359268188. Accuracy: 34.122247376003294\n",
      "Iteration: 6000. Loss: 1.7676787376403809. Accuracy: 30.12965630788228\n",
      "Iteration: 6500. Loss: 1.7589138746261597. Accuracy: 31.549701584688208\n",
      "Iteration: 7000. Loss: 1.7510671615600586. Accuracy: 41.983947314262196\n",
      "Iteration: 7500. Loss: 1.9687738418579102. Accuracy: 38.69108870137889\n",
      "Iteration: 8000. Loss: 1.4906318187713623. Accuracy: 36.09796254373328\n",
      "Iteration: 8500. Loss: 1.5340274572372437. Accuracy: 48.19921794607944\n",
      "Iteration: 9000. Loss: 1.6840194463729858. Accuracy: 36.221444741716404\n",
      "Iteration: 9500. Loss: 1.833251714706421. Accuracy: 27.824655278863965\n",
      "Iteration: 10000. Loss: 1.2000548839569092. Accuracy: 40.481580572134185\n",
      "Iteration: 10500. Loss: 1.3192919492721558. Accuracy: 33.9370240790286\n",
      "Iteration: 11000. Loss: 1.5536959171295166. Accuracy: 54.78493517184606\n",
      "Iteration: 11500. Loss: 1.3236891031265259. Accuracy: 56.6165877752624\n",
      "Iteration: 12000. Loss: 1.2766362428665161. Accuracy: 58.48940111133978\n",
      "Iteration: 12500. Loss: 1.0728020668029785. Accuracy: 53.982300884955755\n",
      "Iteration: 13000. Loss: 1.1139781475067139. Accuracy: 55.58756945873637\n",
      "Iteration: 13500. Loss: 1.1072982549667358. Accuracy: 61.72051862523153\n",
      "Iteration: 14000. Loss: 1.173187255859375. Accuracy: 59.436097962543734\n",
      "Iteration: 14500. Loss: 1.0590384006500244. Accuracy: 63.1817246346985\n",
      "Iteration: 15000. Loss: 1.0260043144226074. Accuracy: 64.84873430747068\n",
      "Iteration: 15500. Loss: 1.185362458229065. Accuracy: 53.200246964395966\n",
      "Iteration: 16000. Loss: 1.0414540767669678. Accuracy: 63.017081704054334\n",
      "Iteration: 16500. Loss: 1.0584297180175781. Accuracy: 63.22288536735954\n",
      "Iteration: 17000. Loss: 1.0899451971054077. Accuracy: 66.08355628730192\n",
      "Iteration: 17500. Loss: 0.9306523203849792. Accuracy: 68.88248610825272\n",
      "Iteration: 18000. Loss: 0.8064140677452087. Accuracy: 67.31837826713316\n",
      "Iteration: 18500. Loss: 0.9383803009986877. Accuracy: 64.54002881251286\n",
      "Iteration: 19000. Loss: 0.9529796838760376. Accuracy: 66.02181518831036\n",
      "Iteration: 19500. Loss: 1.0061757564544678. Accuracy: 68.40913768265075\n",
      "Iteration: 20000. Loss: 0.7530369758605957. Accuracy: 69.72628112780407\n",
      "Iteration: 20500. Loss: 0.9347794651985168. Accuracy: 65.09569870343692\n",
      "Iteration: 21000. Loss: 0.9257220029830933. Accuracy: 70.42601358304178\n",
      "Iteration: 21500. Loss: 0.8660650849342346. Accuracy: 68.38855731632023\n",
      "Iteration: 22000. Loss: 0.6275050640106201. Accuracy: 76.37373945256226\n",
      "Iteration: 22500. Loss: 0.5363097190856934. Accuracy: 72.44288948343281\n",
      "Iteration: 23000. Loss: 0.6557303071022034. Accuracy: 70.77587981066063\n",
      "Iteration: 23500. Loss: 0.7316390872001648. Accuracy: 73.0397201070179\n",
      "Iteration: 24000. Loss: 0.5819677710533142. Accuracy: 74.33628318584071\n",
      "Iteration: 24500. Loss: 0.6084362864494324. Accuracy: 76.10619469026548\n",
      "Iteration: 25000. Loss: 0.6136001348495483. Accuracy: 75.90039102696028\n",
      "Iteration: 25500. Loss: 0.474231481552124. Accuracy: 78.02016875900391\n",
      "Iteration: 26000. Loss: 0.5256850123405457. Accuracy: 76.45606091788434\n",
      "Iteration: 26500. Loss: 0.4842883348464966. Accuracy: 76.00329285861288\n",
      "Iteration: 27000. Loss: 0.432941734790802. Accuracy: 79.02860670919942\n",
      "Iteration: 27500. Loss: 0.5811356902122498. Accuracy: 75.75632846264664\n",
      "Iteration: 28000. Loss: 0.5448923707008362. Accuracy: 72.25766618645812\n",
      "Iteration: 28500. Loss: 0.5678186416625977. Accuracy: 76.64128421485903\n",
      "Iteration: 29000. Loss: 0.404143363237381. Accuracy: 77.93784729368183\n",
      "Iteration: 29500. Loss: 0.9966415762901306. Accuracy: 74.50092611648488\n",
      "Iteration: 30000. Loss: 0.297661691904068. Accuracy: 77.89668656102079\n",
      "Iteration: 30500. Loss: 0.49484434723854065. Accuracy: 74.66556904712904\n",
      "Iteration: 31000. Loss: 0.5902746319770813. Accuracy: 79.97530356040338\n",
      "Iteration: 31500. Loss: 0.4205625057220459. Accuracy: 78.71990121424162\n",
      "Iteration: 32000. Loss: 0.30280157923698425. Accuracy: 77.07347190779996\n",
      "Iteration: 32500. Loss: 0.8345762491226196. Accuracy: 62.317349248816626\n",
      "Iteration: 33000. Loss: 0.38330256938934326. Accuracy: 80.63387528298004\n",
      "Iteration: 33500. Loss: 0.3966692090034485. Accuracy: 78.82280304589422\n",
      "Iteration: 34000. Loss: 0.30366823077201843. Accuracy: 79.60485696645401\n",
      "Iteration: 34500. Loss: 0.37237146496772766. Accuracy: 78.10249022432599\n",
      "Iteration: 35000. Loss: 0.5247425436973572. Accuracy: 79.8929820950813\n",
      "Iteration: 35500. Loss: 0.5711396932601929. Accuracy: 77.67030253138506\n",
      "Iteration: 36000. Loss: 0.40662309527397156. Accuracy: 81.51883103519242\n",
      "Iteration: 36500. Loss: 0.3092024028301239. Accuracy: 79.85182136242025\n",
      "Iteration: 37000. Loss: 0.32933565974235535. Accuracy: 79.56369623379297\n",
      "Iteration: 37500. Loss: 0.32789143919944763. Accuracy: 79.60485696645401\n",
      "Iteration: 38000. Loss: 0.7708390355110168. Accuracy: 75.20065857172257\n",
      "Iteration: 38500. Loss: 0.3986906111240387. Accuracy: 81.43650956987034\n",
      "Iteration: 39000. Loss: 0.33794060349464417. Accuracy: 80.71619674830212\n",
      "Iteration: 39500. Loss: 0.3812389671802521. Accuracy: 80.75735748096317\n",
      "Iteration: 40000. Loss: 0.20570260286331177. Accuracy: 81.43650956987034\n",
      "Iteration: 40500. Loss: 0.26996251940727234. Accuracy: 80.75735748096317\n",
      "Iteration: 41000. Loss: 0.315815269947052. Accuracy: 80.22226795636962\n",
      "Iteration: 41500. Loss: 0.28631460666656494. Accuracy: 82.38320642107429\n",
      "Iteration: 42000. Loss: 0.1670514941215515. Accuracy: 83.22700144062564\n",
      "Iteration: 42500. Loss: 0.20269843935966492. Accuracy: 81.60115250051452\n",
      "Iteration: 43000. Loss: 0.10220620036125183. Accuracy: 83.12409960897304\n",
      "Iteration: 43500. Loss: 0.2720886468887329. Accuracy: 82.89771557933732\n",
      "Iteration: 44000. Loss: 0.21246159076690674. Accuracy: 81.51883103519242\n",
      "Iteration: 44500. Loss: 0.2294033020734787. Accuracy: 80.92200041160733\n",
      "Iteration: 45000. Loss: 0.27669578790664673. Accuracy: 82.9800370446594\n",
      "Iteration: 45500. Loss: 0.2016219049692154. Accuracy: 81.62173286684504\n",
      "Iteration: 46000. Loss: 0.22329556941986084. Accuracy: 78.65816011525006\n",
      "Iteration: 46500. Loss: 0.3168911337852478. Accuracy: 79.76949989709817\n",
      "Iteration: 47000. Loss: 0.3889259696006775. Accuracy: 77.0117308088084\n",
      "Iteration: 47500. Loss: 0.1280653476715088. Accuracy: 83.45338547026137\n",
      "Iteration: 48000. Loss: 0.18990279734134674. Accuracy: 82.9800370446594\n",
      "Iteration: 48500. Loss: 0.3314424753189087. Accuracy: 81.33360773821774\n",
      "Iteration: 49000. Loss: 0.1718740165233612. Accuracy: 83.24758180695616\n",
      "Iteration: 49500. Loss: 0.3350619077682495. Accuracy: 80.48981271866639\n",
      "Iteration: 50000. Loss: 0.8532885909080505. Accuracy: 71.51677299855938\n",
      "Iteration: 50500. Loss: 0.29774269461631775. Accuracy: 75.36530150236675\n",
      "Iteration: 51000. Loss: 0.5934714674949646. Accuracy: 74.60382794813748\n",
      "Iteration: 51500. Loss: 0.1955552101135254. Accuracy: 82.8771352130068\n",
      "Iteration: 52000. Loss: 0.19106799364089966. Accuracy: 83.72093023255815\n",
      "Iteration: 52500. Loss: 0.17158859968185425. Accuracy: 83.80325169788023\n",
      "Iteration: 53000. Loss: 0.2897418439388275. Accuracy: 80.44865198600534\n",
      "Iteration: 53500. Loss: 0.18510514497756958. Accuracy: 83.43280510393085\n",
      "Iteration: 54000. Loss: 0.21070079505443573. Accuracy: 83.72093023255815\n",
      "Iteration: 54500. Loss: 0.15521247684955597. Accuracy: 83.61802840090553\n",
      "Iteration: 55000. Loss: 0.11365285515785217. Accuracy: 82.85655484667627\n",
      "Iteration: 55500. Loss: 0.09161140769720078. Accuracy: 83.67976949989709\n",
      "Iteration: 56000. Loss: 0.1740095168352127. Accuracy: 83.32990327227824\n",
      "Iteration: 56500. Loss: 0.12335257232189178. Accuracy: 84.2766001234822\n",
      "Iteration: 57000. Loss: 0.12330914288759232. Accuracy: 84.070796460177\n",
      "Iteration: 57500. Loss: 0.0829114243388176. Accuracy: 84.66762708376208\n",
      "Iteration: 58000. Loss: 0.1305072158575058. Accuracy: 81.74521506482816\n",
      "Iteration: 58500. Loss: 0.3650754690170288. Accuracy: 76.88824861082527\n",
      "Iteration: 59000. Loss: 0.14817994832992554. Accuracy: 82.91829594566784\n",
      "Iteration: 59500. Loss: 0.20175041258335114. Accuracy: 83.14467997530356\n",
      "Iteration: 60000. Loss: 0.09825450927019119. Accuracy: 84.13253755916855\n",
      "Iteration: 60500. Loss: 0.14267215132713318. Accuracy: 83.2887425396172\n",
      "Iteration: 61000. Loss: 0.1814519464969635. Accuracy: 81.76579543115868\n",
      "Iteration: 61500. Loss: 0.0961681380867958. Accuracy: 84.60588598477052\n",
      "Iteration: 62000. Loss: 0.16449077427387238. Accuracy: 81.84811689648076\n",
      "Iteration: 62500. Loss: 0.217194065451622. Accuracy: 81.74521506482816\n",
      "Iteration: 63000. Loss: 0.2085183709859848. Accuracy: 81.93043836180284\n",
      "Iteration: 63500. Loss: 0.15849046409130096. Accuracy: 82.95945667832888\n",
      "Iteration: 64000. Loss: 0.16614073514938354. Accuracy: 83.59744803457501\n",
      "Iteration: 64500. Loss: 0.1128525510430336. Accuracy: 82.36262605474377\n",
      "Iteration: 65000. Loss: 0.1800699084997177. Accuracy: 82.46552788639637\n",
      "Iteration: 65500. Loss: 0.04251626133918762. Accuracy: 84.50298415311792\n",
      "Iteration: 66000. Loss: 0.07239176332950592. Accuracy: 84.35892158880428\n",
      "Iteration: 66500. Loss: 0.17295914888381958. Accuracy: 82.93887631199836\n",
      "Iteration: 67000. Loss: 1.1470444202423096. Accuracy: 63.099403169376416\n",
      "Iteration: 67500. Loss: 0.10931747406721115. Accuracy: 83.32990327227824\n",
      "Iteration: 68000. Loss: 0.1587585061788559. Accuracy: 82.9800370446594\n",
      "Iteration: 68500. Loss: 0.10687506198883057. Accuracy: 83.80325169788023\n",
      "Iteration: 69000. Loss: 0.06272003799676895. Accuracy: 83.24758180695616\n",
      "Iteration: 69500. Loss: 0.09704173356294632. Accuracy: 83.30932290594772\n",
      "Iteration: 70000. Loss: 0.47742921113967896. Accuracy: 78.65816011525006\n",
      "Iteration: 70500. Loss: 0.0750395879149437. Accuracy: 84.44124305412636\n",
      "Iteration: 71000. Loss: 0.1870795339345932. Accuracy: 82.95945667832888\n",
      "Iteration: 71500. Loss: 0.03669661283493042. Accuracy: 83.90615352953283\n",
      "Iteration: 72000. Loss: 0.0346364825963974. Accuracy: 84.6882074500926\n",
      "Iteration: 72500. Loss: 0.21103283762931824. Accuracy: 81.10722370858201\n",
      "Iteration: 73000. Loss: 0.10011553019285202. Accuracy: 84.81168964807574\n",
      "Iteration: 73500. Loss: 0.8236433863639832. Accuracy: 72.01070179049186\n",
      "Iteration: 74000. Loss: 0.0786372721195221. Accuracy: 83.82383206421075\n",
      "Iteration: 74500. Loss: 0.06438428163528442. Accuracy: 84.29718048981272\n",
      "Iteration: 75000. Loss: 0.07219637930393219. Accuracy: 83.41222473760033\n",
      "Iteration: 75500. Loss: 0.09407897293567657. Accuracy: 83.10351924264252\n",
      "Iteration: 76000. Loss: 0.41120707988739014. Accuracy: 75.94155175962132\n",
      "Iteration: 76500. Loss: 0.08188533782958984. Accuracy: 83.96789462852439\n",
      "Iteration: 77000. Loss: 0.06753953546285629. Accuracy: 84.1736982918296\n",
      "Iteration: 77500. Loss: 0.030504485592246056. Accuracy: 84.95575221238938\n",
      "Iteration: 78000. Loss: 0.09597822278738022. Accuracy: 82.13624202510805\n",
      "Iteration: 78500. Loss: 0.05064176768064499. Accuracy: 83.00061741098992\n",
      "Iteration: 79000. Loss: 0.05836784094572067. Accuracy: 83.88557316320231\n",
      "Iteration: 79500. Loss: 0.04027199745178223. Accuracy: 85.16155587569459\n",
      "Iteration: 79952. Loss: 0.07016361504793167. Accuracy: 85.16155587569459\n"
     ]
    }
   ],
   "source": [
    "\n",
    "iteration_loss = []\n",
    "iter = 0\n",
    "for epoch in range(num_epochs):\n",
    "    for i, (images, labels) in enumerate(train_loader):\n",
    "\n",
    "        images = images.view(-1, 28*28).to(device)\n",
    "        labels = labels.to(device)\n",
    "\n",
    "        # Clear gradients w.r.t. parameters\n",
    "        optimizer.zero_grad()\n",
    "\n",
    "        # Forward pass to get output/logits\n",
    "        outputs = model(images) \n",
    "\n",
    "        # Calculate Loss: softmax --> cross entropy loss\n",
    "        loss = criterion(outputs, labels)\n",
    "\n",
    "        # Getting gradients w.r.t. parameters\n",
    "        loss.backward()\n",
    "\n",
    "        # Updating parameters\n",
    "        optimizer.step()\n",
    "\n",
    "        iter += 1\n",
    "\n",
    "        if iter % 500 == 0:\n",
    "            # Calculate Accuracy         \n",
    "            correct = 0\n",
    "            total = 0\n",
    "            # Iterate through test dataset\n",
    "            for images, labels in test_loader:\n",
    "               \n",
    "                images = images.view(-1, 28*28).to(device)\n",
    "\n",
    "                # Forward pass only to get logits/output\n",
    "                outputs = model(images)\n",
    "\n",
    "                # Get predictions from the maximum value\n",
    "                _, predicted = torch.max(outputs, 1)\n",
    "\n",
    "                # Total number of labels\n",
    "                total += labels.size(0)\n",
    "\n",
    "\n",
    "                # Total correct predictions\n",
    "                if torch.cuda.is_available():\n",
    "                    correct += (predicted.cpu() == labels.cpu()).sum() \n",
    "                else:\n",
    "                    correct += (predicted == labels).sum()\n",
    "\n",
    "            accuracy = 100 * correct.item() / total\n",
    "\n",
    "            # Print Loss\n",
    "            iteration_loss.append(loss.item())\n",
    "            print('Iteration: {}. Loss: {}. Accuracy: {}'.format(iter, loss.item(), accuracy))\n",
    "print('Iteration: {}. Loss: {}. Accuracy: {}'.format(iter, loss.item(), accuracy))"
   ]
  },
  {
   "cell_type": "markdown",
   "metadata": {},
   "source": [
    "# Plotting Loss Graph According to Iterations"
   ]
  },
  {
   "cell_type": "code",
   "execution_count": 58,
   "metadata": {
    "execution": {
     "iopub.execute_input": "2021-08-28T20:36:24.048110Z",
     "iopub.status.busy": "2021-08-28T20:36:24.047625Z",
     "iopub.status.idle": "2021-08-28T20:36:24.823192Z",
     "shell.execute_reply": "2021-08-28T20:36:24.822446Z",
     "shell.execute_reply.started": "2021-08-28T20:36:24.048072Z"
    },
    "id": "H_tu7OIw3TYg",
    "outputId": "b9023961-ca31-40ee-d3e0-b03d51d7e400"
   },
   "outputs": [
    {
     "name": "stdout",
     "output_type": "stream",
     "text": [
      "[2.2898166179656982, 2.252586841583252, 2.249518871307373, 2.064077377319336, 2.0064055919647217, 2.015638828277588, 1.897990107536316, 2.282538890838623, 1.8738566637039185, 1.7176018953323364, 1.8153530359268188, 1.7676787376403809, 1.7589138746261597, 1.7510671615600586, 1.9687738418579102, 1.4906318187713623, 1.5340274572372437, 1.6840194463729858, 1.833251714706421, 1.2000548839569092, 1.3192919492721558, 1.5536959171295166, 1.3236891031265259, 1.2766362428665161, 1.0728020668029785, 1.1139781475067139, 1.1072982549667358, 1.173187255859375, 1.0590384006500244, 1.0260043144226074, 1.185362458229065, 1.0414540767669678, 1.0584297180175781, 1.0899451971054077, 0.9306523203849792, 0.8064140677452087, 0.9383803009986877, 0.9529796838760376, 1.0061757564544678, 0.7530369758605957, 0.9347794651985168, 0.9257220029830933, 0.8660650849342346, 0.6275050640106201, 0.5363097190856934, 0.6557303071022034, 0.7316390872001648, 0.5819677710533142, 0.6084362864494324, 0.6136001348495483, 0.474231481552124, 0.5256850123405457, 0.4842883348464966, 0.432941734790802, 0.5811356902122498, 0.5448923707008362, 0.5678186416625977, 0.404143363237381, 0.9966415762901306, 0.297661691904068, 0.49484434723854065, 0.5902746319770813, 0.4205625057220459, 0.30280157923698425, 0.8345762491226196, 0.38330256938934326, 0.3966692090034485, 0.30366823077201843, 0.37237146496772766, 0.5247425436973572, 0.5711396932601929, 0.40662309527397156, 0.3092024028301239, 0.32933565974235535, 0.32789143919944763, 0.7708390355110168, 0.3986906111240387, 0.33794060349464417, 0.3812389671802521, 0.20570260286331177, 0.26996251940727234, 0.315815269947052, 0.28631460666656494, 0.1670514941215515, 0.20269843935966492, 0.10220620036125183, 0.2720886468887329, 0.21246159076690674, 0.2294033020734787, 0.27669578790664673, 0.2016219049692154, 0.22329556941986084, 0.3168911337852478, 0.3889259696006775, 0.1280653476715088, 0.18990279734134674, 0.3314424753189087, 0.1718740165233612, 0.3350619077682495, 0.8532885909080505, 0.29774269461631775, 0.5934714674949646, 0.1955552101135254, 0.19106799364089966, 0.17158859968185425, 0.2897418439388275, 0.18510514497756958, 0.21070079505443573, 0.15521247684955597, 0.11365285515785217, 0.09161140769720078, 0.1740095168352127, 0.12335257232189178, 0.12330914288759232, 0.0829114243388176, 0.1305072158575058, 0.3650754690170288, 0.14817994832992554, 0.20175041258335114, 0.09825450927019119, 0.14267215132713318, 0.1814519464969635, 0.0961681380867958, 0.16449077427387238, 0.217194065451622, 0.2085183709859848, 0.15849046409130096, 0.16614073514938354, 0.1128525510430336, 0.1800699084997177, 0.04251626133918762, 0.07239176332950592, 0.17295914888381958, 1.1470444202423096, 0.10931747406721115, 0.1587585061788559, 0.10687506198883057, 0.06272003799676895, 0.09704173356294632, 0.47742921113967896, 0.0750395879149437, 0.1870795339345932, 0.03669661283493042, 0.0346364825963974, 0.21103283762931824, 0.10011553019285202, 0.8236433863639832, 0.0786372721195221, 0.06438428163528442, 0.07219637930393219, 0.09407897293567657, 0.41120707988739014, 0.08188533782958984, 0.06753953546285629, 0.030504485592246056, 0.09597822278738022, 0.05064176768064499, 0.05836784094572067, 0.04027199745178223]\n"
     ]
    },
    {
     "data": {
      "image/png": "[encoded data removed]",
      "text/plain": [
       "<Figure size 432x288 with 1 Axes>"
      ]
     },
     "metadata": {
      "needs_background": "light"
     },
     "output_type": "display_data"
    }
   ],
   "source": [
    "print (iteration_loss)\n",
    "plt.plot(iteration_loss)\n",
    "plt.ylabel('Cross Entropy Loss')\n",
    "plt.xlabel('Iteration (in every 500)')\n",
    "plt.savefig('plot_9.png', dpi=600, bbox_inches='tight')\n",
    "plt.show()"
   ]
  },
  {
   "cell_type": "markdown",
   "metadata": {},
   "source": [
    "# Saving the Model"
   ]
  },
  {
   "cell_type": "code",
   "execution_count": 59,
   "metadata": {
    "execution": {
     "iopub.execute_input": "2021-08-28T20:36:27.302887Z",
     "iopub.status.busy": "2021-08-28T20:36:27.302548Z",
     "iopub.status.idle": "2021-08-28T20:36:27.314046Z",
     "shell.execute_reply": "2021-08-28T20:36:27.313114Z",
     "shell.execute_reply.started": "2021-08-28T20:36:27.302859Z"
    },
    "id": "-6aP_6BvbPes"
   },
   "outputs": [],
   "source": [
    "root_path = './Saved Models'\n",
    "save_model = True\n",
    "\n",
    "if save_model is True:\n",
    "    # Saves only parameters\n",
    "    # weights & biases\n",
    "    torch.save(model.state_dict(), root_path + '170104021_9.pkl') "
   ]
  }
 ],
 "metadata": {
  "kernelspec": {
   "display_name": "Python 3",
   "language": "python",
   "name": "python3"
  },
  "language_info": {
   "codemirror_mode": {
    "name": "ipython",
    "version": 3
   },
   "file_extension": ".py",
   "mimetype": "text/x-python",
   "name": "python",
   "nbconvert_exporter": "python",
   "pygments_lexer": "ipython3",
   "version": "3.8.8"
  }
 },
 "nbformat": 4,
 "nbformat_minor": 4
}
